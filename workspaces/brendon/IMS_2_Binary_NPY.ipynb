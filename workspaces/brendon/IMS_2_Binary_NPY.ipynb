{
 "cells": [
  {
   "cell_type": "markdown",
   "id": "111f4ff3",
   "metadata": {},
   "source": [
    "## Notebook libraries/Functions"
   ]
  },
  {
   "cell_type": "code",
   "execution_count": 3,
   "id": "8e3380fc",
   "metadata": {},
   "outputs": [],
   "source": [
    "import os\n",
    "import glob\n",
    "from datetime import datetime, timezone\n",
    "\n",
    "import numpy as np\n",
    "\n",
    "import matplotlib.pyplot as plt\n",
    "from mpl_toolkits.axes_grid1 import make_axes_locatable\n",
    "from matplotlib.colors import ListedColormap\n",
    "\n",
    "import xarray as xr\n",
    "\n",
    "from PIL import Image\n",
    "\n",
    "import warnings\n",
    "\n",
    "warnings.filterwarnings(\"ignore\", category=UserWarning)"
   ]
  },
  {
   "cell_type": "markdown",
   "id": "db5dcc89",
   "metadata": {},
   "source": [
    "### Define path"
   ]
  },
  {
   "cell_type": "code",
   "execution_count": 4,
   "id": "3b7558e1",
   "metadata": {},
   "outputs": [],
   "source": [
    "def get_path(parts):\n",
    "    out_path = \"\"\n",
    "    for part in parts:\n",
    "        out_path = out_path + f\"{part}{os.path.sep}\"\n",
    "\n",
    "    out_path = out_path.rstrip(os.path.sep)\n",
    "    return out_path"
   ]
  },
  {
   "cell_type": "markdown",
   "id": "a0a605eb",
   "metadata": {},
   "source": [
    "### Get x, y from longitude, latitude"
   ]
  },
  {
   "cell_type": "code",
   "execution_count": 5,
   "id": "92dc0be1",
   "metadata": {},
   "outputs": [],
   "source": [
    "def _hemi_direction(hemisphere):\n",
    "    \"\"\"Return `1` for 'north' and `-1` for 'south'\"\"\"\n",
    "    return {\"north\": 1, \"south\": -1}[hemisphere]\n",
    "\n",
    "\n",
    "def polar_lonlat_to_xy(longitude, latitude, true_scale_lat, re, e, hemisphere):\n",
    "    \"\"\"Convert from geodetic longitude and latitude to Polar Stereographic\n",
    "    (X, Y) coordinates in km.\n",
    "\n",
    "    Args:\n",
    "        longitude (float): longitude or longitude array in degrees\n",
    "        latitude (float): latitude or latitude array in degrees (positive)\n",
    "        true_scale_lat (float): true-scale latitude in degrees\n",
    "        re (float): Earth radius in km\n",
    "        e (float): Earth eccentricity\n",
    "        hemisphere ('north' or 'south'): Northern or Southern hemisphere\n",
    "\n",
    "    Returns:\n",
    "        If longitude and latitude are scalars then the result is a\n",
    "        two-element list containing [X, Y] in km.\n",
    "        If longitude and latitude are numpy arrays then the result will be a\n",
    "        two-element list where the first element is a numpy array containing\n",
    "        the X coordinates and the second element is a numpy array containing\n",
    "        the Y coordinates.\n",
    "    \"\"\"\n",
    "\n",
    "    hemi_direction = _hemi_direction(hemisphere)\n",
    "\n",
    "    lat = abs(latitude) * np.pi / 180\n",
    "    lon = longitude * np.pi / 180\n",
    "    slat = true_scale_lat * np.pi / 180\n",
    "\n",
    "    e2 = e * e\n",
    "\n",
    "    # Snyder (1987) p. 161 Eqn 15-9\n",
    "    t = np.tan(np.pi / 4 - lat / 2) / (\n",
    "        (1 - e * np.sin(lat)) / (1 + e * np.sin(lat))\n",
    "    ) ** (e / 2)\n",
    "\n",
    "    if abs(90 - true_scale_lat) < 1e-5:\n",
    "        # Snyder (1987) p. 161 Eqn 21-33\n",
    "        rho = 2 * re * t / np.sqrt((1 + e) ** (1 + e) * (1 - e) ** (1 - e))\n",
    "    else:\n",
    "        # Snyder (1987) p. 161 Eqn 21-34\n",
    "        tc = np.tan(np.pi / 4 - slat / 2) / (\n",
    "            (1 - e * np.sin(slat)) / (1 + e * np.sin(slat))\n",
    "        ) ** (e / 2)\n",
    "        mc = np.cos(slat) / np.sqrt(1 - e2 * (np.sin(slat) ** 2))\n",
    "        rho = re * mc * t / tc\n",
    "\n",
    "    x = rho * hemi_direction * np.sin(hemi_direction * lon)\n",
    "    y = -rho * hemi_direction * np.cos(hemi_direction * lon)\n",
    "    return (x, y)"
   ]
  },
  {
   "cell_type": "markdown",
   "id": "ddeab64d",
   "metadata": {},
   "source": [
    "### Crop files"
   ]
  },
  {
   "cell_type": "code",
   "execution_count": 28,
   "id": "1e7d6666",
   "metadata": {},
   "outputs": [],
   "source": [
    "def crop_files(dir_list, center_coordinates, npy_save_dir, png_save_dir) -> None:\n",
    "    # Set binary colors to black and white\n",
    "    colors = [\"#000000\", \"#FFFFFF\"]\n",
    "    cmap = ListedColormap(colors, name=\"binary_map\", N=len(colors))\n",
    "\n",
    "    sm = plt.cm.ScalarMappable(cmap=cmap, norm=plt.Normalize(vmin=0, vmax=1))\n",
    "    sm.set_array([])\n",
    "\n",
    "    samples = {}\n",
    "\n",
    "    for cdf_filepath in dir_list:\n",
    "        # Set output file name and check if the output file already exists on disk.\n",
    "        npy_output_filename = get_path(\n",
    "            [\n",
    "                npy_save_dir,\n",
    "                os.path.basename(cdf_filepath).split(\".\")[0]\n",
    "                + f\"_grid{window_size}.npy\",\n",
    "            ]\n",
    "        )\n",
    "\n",
    "        png_output_filename = get_path(\n",
    "            [\n",
    "                png_save_dir,\n",
    "                os.path.basename(cdf_filepath).split(\".\")[0]\n",
    "                + f\"_grid{window_size}.png\",\n",
    "            ]\n",
    "        )\n",
    "\n",
    "        # Open the original NetCDF file\n",
    "        ds = xr.open_dataset(cdf_filepath)\n",
    "\n",
    "        # Get date of image\n",
    "        dt64 = ds[\"time\"][0].values\n",
    "        formatted_date = np.datetime_as_string(dt64, unit=\"D\")\n",
    "\n",
    "        \"\"\"\n",
    "        Crop image\n",
    "        \"\"\"\n",
    "\n",
    "        # Expects self.center_coordinates x,y to be \"x, y\" float values.\n",
    "        # `* 1000` from km to meters\n",
    "        x, y = center_coordinates\n",
    "        x = x * 1000\n",
    "        y = y * 1000\n",
    "        window = window_size * 1000\n",
    "\n",
    "        cropped_ds = ds.sel(\n",
    "            x=slice(x - window, x + window),\n",
    "            y=slice(y - window, y + window),\n",
    "        )\n",
    "        sie = cropped_ds.IMS_Surface_Values\n",
    "\n",
    "        ds.close()\n",
    "\n",
    "        # Rotate image and set numpy array\n",
    "        sie = np.rot90(sie, 2)\n",
    "        array_2D = sie[0, :, :]\n",
    "        \"\"\"\n",
    "        ONLY APPLY FOR BLACK-AND-WHITE PLOTS\n",
    "        + Set all all non-3 values to 0\n",
    "        + Set all 3 values to 1\n",
    "        \"\"\"\n",
    "        array_2D[array_2D != 3] = 0\n",
    "        array_2D[array_2D == 3] = 1\n",
    "\n",
    "        # Save npy file\n",
    "        if not os.path.exists(npy_output_filename):\n",
    "            np.save(npy_output_filename, array_2D)\n",
    "\n",
    "        # Save png file\n",
    "        #         png_data = array_2D.astype(np.uint8)\n",
    "        #         png_img = Image.fromarray(array_2D)\n",
    "        #         png_img.show()\n",
    "        #         png_img.save(png_output_filename)\n",
    "        if not os.path.exists(png_output_filename):\n",
    "            plt.imshow(array_2D, cmap=cmap)\n",
    "            plt.title(formatted_date, fontsize=16)\n",
    "            plt.savefig(png_output_filename)\n",
    "\n",
    "        # Add image to sample dict\n",
    "        if formatted_date[-3:] == \"-01\":\n",
    "            samples[formatted_date] = array_2D\n",
    "\n",
    "    \"\"\"\n",
    "    Plot sample images\n",
    "    \"\"\"\n",
    "    fig, axs = plt.subplots(3, 4, figsize=(16, 5))\n",
    "    axs = axs.flatten()\n",
    "\n",
    "    for i, sample_date in enumerate(samples):\n",
    "        axs[i].imshow(\n",
    "            samples[sample_date],\n",
    "            cmap=cmap,\n",
    "            vmin=0,\n",
    "            vmax=len(colors) - 1,\n",
    "        )\n",
    "        axs[i].set_title(sample_date, fontsize=14)\n",
    "        axs[i].axis(\"off\")\n",
    "\n",
    "    divider = make_axes_locatable(axs[len(samples) - 1])\n",
    "    cbar_ax = divider.append_axes(\"right\", size=\"10%\", pad=0.1)\n",
    "    cbar = plt.colorbar(\n",
    "        sm, cax=cbar_ax, ticks=np.arange(len(colors)), ax=axs.ravel().tolist()\n",
    "    )\n",
    "    cbar.ax.set_yticklabels(\n",
    "        [\n",
    "            \"Not Sea Ice\",\n",
    "            \"Sea Ice\",\n",
    "        ],\n",
    "        fontsize=14,\n",
    "    )\n",
    "    cbar.set_label(\"Surface Types\", fontsize=16)\n",
    "\n",
    "    plt.tight_layout()\n",
    "    plt.show()"
   ]
  },
  {
   "cell_type": "markdown",
   "id": "6508ee8a",
   "metadata": {},
   "source": [
    "### Assign defaults"
   ]
  },
  {
   "cell_type": "code",
   "execution_count": 7,
   "id": "b3a7c348",
   "metadata": {},
   "outputs": [],
   "source": [
    "analysis_years = range(2015, 2025)\n",
    "root_dir = get_path([\"D:\", \"IceDyno\", \"IMS_Images\"])\n",
    "\n",
    "# coordinates\n",
    "TRUE_SCALE_LATITUDE = 70\n",
    "EARTH_RADIUS_KM = 6378.273\n",
    "EARTH_ECCENTRICITY = 0.081816153\n",
    "beaufort_sea_long = -75.0\n",
    "beaufort_sea_lat = 74.0\n",
    "\n",
    "center_coordinates = polar_lonlat_to_xy(\n",
    "    beaufort_sea_long,\n",
    "    beaufort_sea_lat,\n",
    "    TRUE_SCALE_LATITUDE,\n",
    "    EARTH_RADIUS_KM,\n",
    "    EARTH_ECCENTRICITY,\n",
    "    \"north\",\n",
    ")\n",
    "\n",
    "window_size = 1000"
   ]
  },
  {
   "cell_type": "markdown",
   "id": "8d8c5308",
   "metadata": {},
   "source": [
    "## Process files"
   ]
  },
  {
   "cell_type": "code",
   "execution_count": null,
   "id": "3fc0aa3c",
   "metadata": {
    "scrolled": false
   },
   "outputs": [
    {
     "name": "stdout",
     "output_type": "stream",
     "text": [
      "Cropping files for 2015\n"
     ]
    },
    {
     "data": {
      "image/png": "[encoded data removed]",
      "text/plain": [
       "<Figure size 640x480 with 1 Axes>"
      ]
     },
     "metadata": {},
     "output_type": "display_data"
    },
    {
     "data": {
      "image/png": "[encoded data removed]",
      "text/plain": [
       "<Figure size 1600x500 with 13 Axes>"
      ]
     },
     "metadata": {},
     "output_type": "display_data"
    },
    {
     "name": "stdout",
     "output_type": "stream",
     "text": [
      "Cropping files for 2016\n"
     ]
    }
   ],
   "source": [
    "for yr in analysis_years:\n",
    "    print(f\"Cropping files for {yr}\")\n",
    "    hdf5_dir = get_path([root_dir, yr])\n",
    "    npy_save_dir = get_path([hdf5_dir, \"npy\"])\n",
    "    os.makedirs(npy_save_dir, exist_ok=True)\n",
    "    png_save_dir = get_path([hdf5_dir, \"png\"])\n",
    "    os.makedirs(png_save_dir, exist_ok=True)\n",
    "\n",
    "    file_list = glob.glob(get_path([hdf5_dir, \"*.nc\"]))\n",
    "    crop_files(file_list, center_coordinates, npy_save_dir, png_save_dir)"
   ]
  },
  {
   "cell_type": "raw",
   "id": "04944d72",
   "metadata": {},
   "source": [
    "TRUE_SCALE_LATITUDE = 70\n",
    "EARTH_RADIUS_KM = 6378.273\n",
    "EARTH_ECCENTRICITY = 0.081816153\n",
    "beaufort_sea_long = -75.0\n",
    "beaufort_sea_lat = 74.0\n",
    "\n",
    "center_coordinates = polar_lonlat_to_xy(beaufort_sea_long, beaufort_sea_lat,\n",
    "                                        TRUE_SCALE_LATITUDE, EARTH_RADIUS_KM,\n",
    "                                        EARTH_ECCENTRICITY, 'north')\n",
    "\n",
    "window_size = 1000\n",
    "\n",
    "ds = xr.open_dataset(r\"D:\\IceDyno\\IMS_images\\2015\\ims2015001_1km_v1.3.nc\")\n",
    "\n",
    "dt64 = ds[\"time\"][0].values\n",
    "formatted_date = np.datetime_as_string(dt64, unit='D')\n",
    "\n",
    "\n",
    "\"\"\"\n",
    "Crop image\n",
    "\"\"\"\n",
    "\n",
    "# Expects self.center_coordinates x,y to be \"x, y\" float values.\n",
    "# Coordinates adjusted `* 250` for offset\n",
    "x, y = center_coordinates\n",
    "x = x * 1000\n",
    "y = y * 1000\n",
    "\n",
    "window = window_size * 1000  # from km to meters\n",
    "\n",
    "cropped_ds = ds.sel(\n",
    "    x=slice(x - window, x + window),\n",
    "    y=slice(y - window, y + window),\n",
    ")\n",
    "\n",
    "sie = cropped_ds.IMS_Surface_Values\n",
    "\n",
    "ds.close()\n",
    "\n",
    "# Rotate image and set numpy array\n",
    "sie = np.rot90(sie, 2)\n",
    "array_2D = sie[0, :, :]\n",
    "\n",
    "plt.imshow(array_2D)\n",
    "plt.show()\n",
    "\n",
    "# sie = cropped_ds.IMS_Surface_Values\n",
    "\n",
    "ds.close()"
   ]
  }
 ],
 "metadata": {
  "kernelspec": {
   "display_name": "Python 3 (ipykernel)",
   "language": "python",
   "name": "python3"
  },
  "language_info": {
   "codemirror_mode": {
    "name": "ipython",
    "version": 3
   },
   "file_extension": ".py",
   "mimetype": "text/x-python",
   "name": "python",
   "nbconvert_exporter": "python",
   "pygments_lexer": "ipython3",
   "version": "3.12.2"
  }
 },
 "nbformat": 4,
 "nbformat_minor": 5
}
