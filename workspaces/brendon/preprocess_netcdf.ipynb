{
 "cells": [
  {
   "cell_type": "markdown",
   "id": "c8a671ab",
   "metadata": {},
   "source": [
    "## Import libraries"
   ]
  },
  {
   "cell_type": "code",
   "execution_count": 17,
   "id": "1c3ccd02",
   "metadata": {},
   "outputs": [],
   "source": [
    "import os\n",
    "import matplotlib.pyplot as plt\n",
    "from matplotlib.colors import ListedColormap\n",
    "import numpy as np\n",
    "\n",
    "import requests\n",
    "from bs4 import BeautifulSoup\n",
    "\n",
    "import h5py\n",
    "\n",
    "years = range(2014, 2025)"
   ]
  },
  {
   "cell_type": "markdown",
   "id": "b9cce684",
   "metadata": {},
   "source": [
    "## Download netcdf files"
   ]
  },
  {
   "cell_type": "code",
   "execution_count": 2,
   "id": "03faece8",
   "metadata": {},
   "outputs": [
    {
     "name": "stdout",
     "output_type": "stream",
     "text": [
      "Downloading files for 2014\n",
      "Total downloaded files for 2014: [30]\n",
      "\n",
      "Downloading files for 2015\n",
      "Downloading files for 2015: [50]\n",
      "Downloading files for 2015: [100]\n",
      "Downloading files for 2015: [150]\n",
      "Downloading files for 2015: [200]\n",
      "Downloading files for 2015: [250]\n",
      "Downloading files for 2015: [300]\n",
      "Downloading files for 2015: [350]\n",
      "Total downloaded files for 2015: [364]\n",
      "\n",
      "Downloading files for 2016\n",
      "Downloading files for 2016: [50]\n",
      "Downloading files for 2016: [100]\n",
      "Downloading files for 2016: [150]\n",
      "Downloading files for 2016: [200]\n",
      "Downloading files for 2016: [250]\n",
      "Downloading files for 2016: [300]\n",
      "Downloading files for 2016: [350]\n",
      "Total downloaded files for 2016: [366]\n",
      "\n",
      "Downloading files for 2017\n",
      "Downloading files for 2017: [50]\n",
      "Downloading files for 2017: [100]\n",
      "Downloading files for 2017: [150]\n",
      "Downloading files for 2017: [200]\n",
      "Downloading files for 2017: [250]\n",
      "Downloading files for 2017: [300]\n",
      "Downloading files for 2017: [350]\n",
      "Total downloaded files for 2017: [363]\n",
      "\n",
      "Downloading files for 2018\n",
      "Downloading files for 2018: [50]\n",
      "Downloading files for 2018: [100]\n",
      "Downloading files for 2018: [150]\n",
      "Downloading files for 2018: [200]\n",
      "Downloading files for 2018: [250]\n",
      "Downloading files for 2018: [300]\n",
      "Downloading files for 2018: [350]\n",
      "Total downloaded files for 2018: [365]\n",
      "\n",
      "Downloading files for 2019\n",
      "Downloading files for 2019: [50]\n",
      "Downloading files for 2019: [100]\n",
      "Downloading files for 2019: [150]\n",
      "Downloading files for 2019: [200]\n",
      "Downloading files for 2019: [250]\n",
      "Downloading files for 2019: [300]\n",
      "Downloading files for 2019: [350]\n",
      "Total downloaded files for 2019: [365]\n",
      "\n",
      "Downloading files for 2020\n",
      "Downloading files for 2020: [50]\n",
      "Downloading files for 2020: [100]\n",
      "Downloading files for 2020: [150]\n",
      "Downloading files for 2020: [200]\n",
      "Downloading files for 2020: [250]\n",
      "Downloading files for 2020: [300]\n",
      "Downloading files for 2020: [350]\n",
      "Total downloaded files for 2020: [366]\n",
      "\n",
      "Downloading files for 2021\n",
      "Downloading files for 2021: [50]\n",
      "Downloading files for 2021: [100]\n",
      "Downloading files for 2021: [150]\n",
      "Downloading files for 2021: [200]\n",
      "Downloading files for 2021: [250]\n",
      "Downloading files for 2021: [300]\n",
      "Downloading files for 2021: [350]\n",
      "Total downloaded files for 2021: [363]\n",
      "\n",
      "Downloading files for 2022\n",
      "Downloading files for 2022: [50]\n",
      "Downloading files for 2022: [100]\n",
      "Downloading files for 2022: [150]\n",
      "Downloading files for 2022: [200]\n",
      "Downloading files for 2022: [250]\n",
      "Downloading files for 2022: [300]\n",
      "Downloading files for 2022: [350]\n",
      "Total downloaded files for 2022: [365]\n",
      "\n",
      "Downloading files for 2023\n",
      "Downloading files for 2023: [50]\n",
      "Downloading files for 2023: [100]\n",
      "Downloading files for 2023: [150]\n",
      "Downloading files for 2023: [200]\n",
      "Downloading files for 2023: [250]\n",
      "Downloading files for 2023: [300]\n",
      "Downloading files for 2023: [350]\n",
      "Total downloaded files for 2023: [364]\n",
      "\n",
      "Downloading files for 2024\n",
      "Downloading files for 2024: [50]\n",
      "Total downloaded files for 2024: [56]\n",
      "\n"
     ]
    }
   ],
   "source": [
    "root_dir = \"D:/IceDyno/netcdf\"\n",
    "for yr in years:\n",
    "    print(f\"Downloading files for {yr}\")\n",
    "    save_dir = f\"{root_dir}/{yr}/\"\n",
    "    os.makedirs(save_dir, exist_ok=True)\n",
    "\n",
    "    html_page = f\"https://noaadata.apps.nsidc.org/NOAA/G02186/netcdf/1km/{yr}/\"\n",
    "    response = requests.get(html_page)\n",
    "\n",
    "    try:\n",
    "        if response.status_code == 200:\n",
    "            soup = BeautifulSoup(response.text, \"html.parser\")\n",
    "            links = soup.find_all(\"a\")\n",
    "            file_cnt = 0\n",
    "            for link in links:\n",
    "                href = link.get(\"href\")\n",
    "                if \".nc\" in href:\n",
    "                    download_url = f\"{html_page}/{link['href']}\"\n",
    "                    response = requests.get(download_url, stream=True)\n",
    "                    response.raise_for_status()\n",
    "\n",
    "                    file_name = f\"{save_dir}{os.path.basename(download_url)}\"\n",
    "\n",
    "                    with open(file_name, \"wb\") as file:\n",
    "                        for chunk in response.iter_content(chunk_size=512):\n",
    "                            file.write(chunk)\n",
    "\n",
    "                    file_cnt += 1\n",
    "                    if file_cnt % 50 == 0:\n",
    "                        print(f\"Downloading files for {yr}: [{file_cnt}]\")\n",
    "\n",
    "    except requests.exceptions.RequestException as e:\n",
    "        print(f\"Error: {e}\")\n",
    "\n",
    "    print(f\"Total downloaded files for {yr}: [{file_cnt}]\\n\")"
   ]
  },
  {
   "cell_type": "markdown",
   "id": "04b105e1",
   "metadata": {},
   "source": [
    "## Show example"
   ]
  },
  {
   "cell_type": "code",
   "execution_count": 20,
   "id": "23d3cd7c",
   "metadata": {},
   "outputs": [
    {
     "name": "stdout",
     "output_type": "stream",
     "text": [
      "Unique values in HDF file [0 1 2 3 4 5]\n"
     ]
    },
    {
     "data": {
      "image/png": "[encoded data removed]",
      "text/plain": [
       "<Figure size 640x480 with 2 Axes>"
      ]
     },
     "metadata": {},
     "output_type": "display_data"
    },
    {
     "name": "stdout",
     "output_type": "stream",
     "text": [
      "Total HDF keys: ['_nc4_non_coord_y', 'polar_stereographic', 'sea_ice_extent', 'time', 'x', 'y']\n"
     ]
    }
   ],
   "source": [
    "# Define a custom colormap with five colors\n",
    "# (Colors used from IMS product map)\n",
    "\"\"\"\n",
    "0 (outside Northern Hemisphere).\n",
    "1 (open water)\n",
    "2 (land without snow)\n",
    "3 (sea or lake ice)\n",
    "4 (snow covered land)\n",
    "\"\"\"\n",
    "colors = [\"#E500E5\", \"#0066FF\", \"#01FF00\", \"#FFC100\", \"#E50000\"]\n",
    "cmap = ListedColormap(colors, name=\"custom_colormap\", N=len(colors))\n",
    "\n",
    "with h5py.File(f\"{root_dir}/2015/masie_all_r00_v01_2015001_1km.nc\", \"r\") as file:\n",
    "    sie = file[\"sea_ice_extent\"]\n",
    "    print(f\"Unique values in HDF file {np.unique(sie)}\")\n",
    "\n",
    "    # Plot\n",
    "    plt.imshow(sie[0], cmap=cmap, vmin=0, vmax=len(colors) - 1)\n",
    "    plt.title(\"January 1, 2015\", fontsize=8)\n",
    "    plt.axis(\"off\")\n",
    "\n",
    "    cbar = plt.colorbar(ticks=np.arange(len(colors)))\n",
    "    cbar.ax.set_yticklabels(\n",
    "        [\n",
    "            \"Outside Northern Hemisphere\",\n",
    "            \"Open Water\",\n",
    "            \"Land without Snow\",\n",
    "            \"Sea or Lake Ice\",\n",
    "            \"Snow Covered Land\",\n",
    "        ]\n",
    "    )\n",
    "    cbar.set_label(\"Surface Type\")\n",
    "\n",
    "    plt.show()\n",
    "\n",
    "    keys = list(file.keys())\n",
    "    print(f\"Total HDF keys: {keys}\")"
   ]
  }
 ],
 "metadata": {
  "kernelspec": {
   "display_name": "Python 3 (ipykernel)",
   "language": "python",
   "name": "python3"
  },
  "language_info": {
   "codemirror_mode": {
    "name": "ipython",
    "version": 3
   },
   "file_extension": ".py",
   "mimetype": "text/x-python",
   "name": "python",
   "nbconvert_exporter": "python",
   "pygments_lexer": "ipython3",
   "version": "3.12.2"
  }
 },
 "nbformat": 4,
 "nbformat_minor": 5
}
