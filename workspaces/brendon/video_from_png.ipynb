{
 "cells": [
  {
   "cell_type": "markdown",
   "id": "420a107f",
   "metadata": {},
   "source": [
    "# Import libraries"
   ]
  },
  {
   "cell_type": "code",
   "execution_count": 1,
   "id": "732fc0f2",
   "metadata": {},
   "outputs": [],
   "source": [
    "import cv2\n",
    "import os\n",
    "import numpy as np"
   ]
  },
  {
   "cell_type": "markdown",
   "id": "ce737a22",
   "metadata": {},
   "source": [
    "# Create video"
   ]
  },
  {
   "cell_type": "code",
   "execution_count": 2,
   "id": "1ea058de",
   "metadata": {},
   "outputs": [],
   "source": [
    "image_folder = r\"D:\\IceDyno\\IMS_Images\\2015\\png\"\n",
    "video_name = r\"D:\\IceDyno\\IMS_Images\\2015\\2015.avi\"\n",
    "\n",
    "images = [img for img in os.listdir(image_folder) if img.endswith(\".png\")]\n",
    "frame = cv2.imread(os.path.join(image_folder, images[0]))\n",
    "height, width, layerrs = frame.shape\n",
    "\n",
    "video = cv2.VideoWriter(video_name, 0, 1, (width, height))\n",
    "for image in images:\n",
    "    video.write(cv2.imread(os.path.join(image_folder, image)))\n",
    "\n",
    "cv2.destroyAllWindows()\n",
    "video.release()"
   ]
  },
  {
   "cell_type": "markdown",
   "id": "c5be9067",
   "metadata": {},
   "source": [
    "# Convert video to numpy array"
   ]
  },
  {
   "cell_type": "code",
   "execution_count": 3,
   "id": "5e57b4ec",
   "metadata": {},
   "outputs": [
    {
     "name": "stdout",
     "output_type": "stream",
     "text": [
      "Shape of video array: (275, 480, 640, 3)\n"
     ]
    }
   ],
   "source": [
    "def avi_to_numpy(avi_file):\n",
    "    cap = cv2.VideoCapture(avi_file)\n",
    "    frames = []\n",
    "    while cap.isOpened():\n",
    "        ret, frame = cap.read()\n",
    "        if not ret:\n",
    "            break\n",
    "        frames.append(frame)\n",
    "    cap.release()\n",
    "\n",
    "    return np.array(frames)\n",
    "\n",
    "\n",
    "avi_file = r\"D:\\IceDyno\\IMS_Images\\2015\\2015.avi\"\n",
    "video_array = avi_to_numpy(avi_file)\n",
    "print(\"Shape of video array:\", video_array.shape)"
   ]
  }
 ],
 "metadata": {
  "kernelspec": {
   "display_name": "Python 3 (ipykernel)",
   "language": "python",
   "name": "python3"
  },
  "language_info": {
   "codemirror_mode": {
    "name": "ipython",
    "version": 3
   },
   "file_extension": ".py",
   "mimetype": "text/x-python",
   "name": "python",
   "nbconvert_exporter": "python",
   "pygments_lexer": "ipython3",
   "version": "3.12.2"
  }
 },
 "nbformat": 4,
 "nbformat_minor": 5
}
