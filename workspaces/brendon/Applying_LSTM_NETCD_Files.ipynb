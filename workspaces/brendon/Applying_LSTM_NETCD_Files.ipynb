{
 "cells": [
  {
   "cell_type": "code",
   "execution_count": 1,
   "metadata": {
    "id": "1OkqAcTNad2z"
   },
   "outputs": [
    {
     "name": "stderr",
     "output_type": "stream",
     "text": [
      "C:\\Users\\brend\\anaconda3\\lib\\site-packages\\numpy\\_distributor_init.py:30: UserWarning: loaded more than 1 DLL from .libs:\n",
      "C:\\Users\\brend\\anaconda3\\lib\\site-packages\\numpy\\.libs\\libopenblas.XWYDX2IKJW2NMTWSFYNGFUWKQU3LYTCZ.gfortran-win_amd64.dll\n",
      "C:\\Users\\brend\\anaconda3\\lib\\site-packages\\numpy\\.libs\\libopenblas64__v0.3.21-gcc_10_3_0.dll\n",
      "  warnings.warn(\"loaded more than 1 DLL from .libs:\"\n"
     ]
    }
   ],
   "source": [
    "import os\n",
    "import glob\n",
    "import numpy as np\n",
    "import matplotlib.pyplot as plt\n",
    "import pandas as pd\n",
    "import tensorflow as tf\n",
    "from tensorflow.keras.models import Sequential\n",
    "from tensorflow.keras.layers import Dense\n",
    "from tensorflow.keras.layers import LSTM\n",
    "from sklearn.preprocessing import MinMaxScaler\n",
    "from sklearn.metrics import mean_squared_error\n",
    "\n",
    "from matplotlib.colors import ListedColormap"
   ]
  },
  {
   "cell_type": "code",
   "execution_count": 2,
   "metadata": {},
   "outputs": [
    {
     "name": "stdout",
     "output_type": "stream",
     "text": [
      "Num GPUs Available:  1\n"
     ]
    }
   ],
   "source": [
    "print(\"Num GPUs Available: \", len(tf.config.experimental.list_physical_devices(\"GPU\")))"
   ]
  },
  {
   "cell_type": "code",
   "execution_count": 3,
   "metadata": {},
   "outputs": [],
   "source": [
    "def get_path(parts):\n",
    "    out_path = \"\"\n",
    "    for part in parts:\n",
    "        out_path = out_path + f\"{part}{os.path.sep}\"\n",
    "\n",
    "    out_path = out_path.rstrip(os.path.sep)\n",
    "    return out_path"
   ]
  },
  {
   "cell_type": "code",
   "execution_count": 4,
   "metadata": {
    "colab": {
     "base_uri": "https://localhost:8080/",
     "height": 435
    },
    "id": "Ntz2bU_ca1x5",
    "outputId": "c478081d-2774-48da-e81c-04ba5e0b4af4"
   },
   "outputs": [
    {
     "data": {
      "image/png": "[encoded data removed]",
      "text/plain": [
       "<Figure size 640x480 with 1 Axes>"
      ]
     },
     "metadata": {},
     "output_type": "display_data"
    }
   ],
   "source": [
    "colors = [\"#000000\", \"#FFFFFF\"]\n",
    "cmap = ListedColormap(colors, name=\"binary_map\", N=len(colors))\n",
    "\n",
    "array_2D = np.load(r\"D:\\IceDyno\\IMS_images\\2023\\npy\\ims2023001_1km_v1_grid1000.npy\")\n",
    "plt.imshow(array_2D, cmap=cmap)\n",
    "plt.show()"
   ]
  },
  {
   "cell_type": "code",
   "execution_count": 5,
   "metadata": {
    "colab": {
     "base_uri": "https://localhost:8080/"
    },
    "id": "tnTwd1dWfZEt",
    "outputId": "a2dca8d8-d2f0-44a9-cf52-724ea73040bf"
   },
   "outputs": [
    {
     "data": {
      "text/plain": [
       "(2000, 2000)"
      ]
     },
     "execution_count": 5,
     "metadata": {},
     "output_type": "execute_result"
    }
   ],
   "source": [
    "array_2D.shape"
   ]
  },
  {
   "cell_type": "code",
   "execution_count": 37,
   "metadata": {
    "colab": {
     "base_uri": "https://localhost:8080/"
    },
    "id": "wvQrwCAQbkeo",
    "outputId": "a1a3ac69-6690-4bba-bf89-2f8319000406"
   },
   "outputs": [
    {
     "data": {
      "text/plain": [
       "(140, 4000000)"
      ]
     },
     "execution_count": 37,
     "metadata": {},
     "output_type": "execute_result"
    }
   ],
   "source": [
    "ims_dataset = []\n",
    "root_dir = get_path([\"D:\\IceDyno\", \"IMS_images\", \"2023\", \"npy\"])\n",
    "file_list = glob.glob(get_path([root_dir, \"*.npy\"]))\n",
    "for npy_file in file_list[:140]:\n",
    "    ims_data_today = np.load(npy_file)\n",
    "    ims_data_today_flattened = ims_data_today.flatten()\n",
    "    ims_dataset.append(ims_data_today_flattened)\n",
    "ims_dataset = np.array(ims_dataset)\n",
    "ims_dataset.shape"
   ]
  },
  {
   "cell_type": "code",
   "execution_count": 38,
   "metadata": {
    "colab": {
     "base_uri": "https://localhost:8080/"
    },
    "id": "_j3kigNNdEFT",
    "outputId": "83e4624b-3e37-4e67-ba5d-928564a077b3"
   },
   "outputs": [
    {
     "data": {
      "text/plain": [
       "((140, 4000000),\n",
       " array([[0., 0., 0., ..., 1., 1., 1.],\n",
       "        [0., 0., 0., ..., 1., 1., 1.],\n",
       "        [0., 0., 0., ..., 1., 1., 1.],\n",
       "        ...,\n",
       "        [0., 0., 0., ..., 1., 1., 1.],\n",
       "        [0., 0., 0., ..., 1., 1., 1.],\n",
       "        [0., 0., 0., ..., 1., 1., 1.]], dtype=float32))"
      ]
     },
     "execution_count": 38,
     "metadata": {},
     "output_type": "execute_result"
    }
   ],
   "source": [
    "scaler = MinMaxScaler(feature_range=(0, 1))\n",
    "dataset = ims_dataset\n",
    "# dataset = scaler.fit_transform(dataset)\n",
    "dataset.shape, dataset"
   ]
  },
  {
   "cell_type": "code",
   "execution_count": 39,
   "metadata": {
    "colab": {
     "base_uri": "https://localhost:8080/"
    },
    "id": "V572dRfedc77",
    "outputId": "087a9b85-6f91-4fcc-8727-02b4f11700fd"
   },
   "outputs": [
    {
     "name": "stdout",
     "output_type": "stream",
     "text": [
      "93 47\n"
     ]
    }
   ],
   "source": [
    "train_size = int(len(dataset) * 0.67)\n",
    "test_size = len(dataset) - train_size\n",
    "train, test = dataset[0:train_size, :], dataset[train_size : len(dataset), :]\n",
    "print(len(train), len(test))"
   ]
  },
  {
   "cell_type": "code",
   "execution_count": 40,
   "metadata": {
    "id": "aQ9VyYKhdc_r"
   },
   "outputs": [],
   "source": [
    "# convert an array of values into a dataset matrix\n",
    "def create_dataset(dataset, look_back=1):\n",
    "    dataX, dataY = [], []\n",
    "    for i in range(len(dataset) - look_back - 1):\n",
    "        a = dataset[i : (i + look_back)]\n",
    "        dataX.append(a)\n",
    "        dataY.append(dataset[i + look_back])\n",
    "    return np.array(dataX), np.array(dataY)"
   ]
  },
  {
   "cell_type": "code",
   "execution_count": 41,
   "metadata": {
    "colab": {
     "base_uri": "https://localhost:8080/"
    },
    "id": "W2jUEEkHddCm",
    "outputId": "43b7ad1f-a210-406e-e734-e4b65137564e"
   },
   "outputs": [
    {
     "name": "stdout",
     "output_type": "stream",
     "text": [
      "(91, 1, 4000000) (91, 4000000)\n",
      "(45, 1, 4000000) (45, 4000000)\n"
     ]
    }
   ],
   "source": [
    "# reshape into X=t and Y=t+1\n",
    "look_back = 1\n",
    "trainX, trainY = create_dataset(train, look_back)\n",
    "testX, testY = create_dataset(test, look_back)\n",
    "\n",
    "print(trainX.shape, trainY.shape)\n",
    "print(testX.shape, testY.shape)"
   ]
  },
  {
   "cell_type": "code",
   "execution_count": 42,
   "metadata": {
    "colab": {
     "base_uri": "https://localhost:8080/"
    },
    "id": "-zANzqLNddFd",
    "outputId": "d2e1275e-cf05-4c73-a72f-2f2cbed1c36d"
   },
   "outputs": [
    {
     "name": "stdout",
     "output_type": "stream",
     "text": [
      "(91, 1, 4000000) (45, 1, 4000000)\n"
     ]
    }
   ],
   "source": [
    "# reshape input to be [samples, time steps, features]\n",
    "trainX = np.reshape(trainX, (trainX.shape[0], 1, trainX.shape[2]))\n",
    "testX = np.reshape(testX, (testX.shape[0], 1, testX.shape[2]))\n",
    "print(trainX.shape, testX.shape)"
   ]
  },
  {
   "cell_type": "code",
   "execution_count": 43,
   "metadata": {
    "colab": {
     "base_uri": "https://localhost:8080/"
    },
    "id": "FgdjEhE-ddIg",
    "outputId": "ecfe3801-f720-4219-84cc-251310478840",
    "scrolled": false
   },
   "outputs": [
    {
     "name": "stdout",
     "output_type": "stream",
     "text": [
      "Epoch 1/100\n",
      "91/91 - 5s - loss: 0.6872 - 5s/epoch - 59ms/step\n",
      "Epoch 2/100\n",
      "91/91 - 4s - loss: 0.5311 - 4s/epoch - 47ms/step\n",
      "Epoch 3/100\n",
      "91/91 - 4s - loss: 0.3879 - 4s/epoch - 46ms/step\n",
      "Epoch 4/100\n",
      "91/91 - 4s - loss: 0.2724 - 4s/epoch - 45ms/step\n",
      "Epoch 5/100\n",
      "91/91 - 4s - loss: 0.1848 - 4s/epoch - 43ms/step\n",
      "Epoch 6/100\n",
      "91/91 - 4s - loss: 0.1213 - 4s/epoch - 43ms/step\n",
      "Epoch 7/100\n",
      "91/91 - 4s - loss: 0.0769 - 4s/epoch - 43ms/step\n",
      "Epoch 8/100\n",
      "91/91 - 4s - loss: 0.0472 - 4s/epoch - 42ms/step\n",
      "Epoch 9/100\n",
      "91/91 - 4s - loss: 0.0280 - 4s/epoch - 43ms/step\n",
      "Epoch 10/100\n",
      "91/91 - 4s - loss: 0.0160 - 4s/epoch - 43ms/step\n",
      "Epoch 11/100\n",
      "91/91 - 4s - loss: 0.0089 - 4s/epoch - 43ms/step\n",
      "Epoch 12/100\n",
      "91/91 - 4s - loss: 0.0048 - 4s/epoch - 43ms/step\n",
      "Epoch 13/100\n",
      "91/91 - 4s - loss: 0.0025 - 4s/epoch - 43ms/step\n",
      "Epoch 14/100\n",
      "91/91 - 4s - loss: 0.0012 - 4s/epoch - 42ms/step\n",
      "Epoch 15/100\n",
      "91/91 - 4s - loss: 5.9743e-04 - 4s/epoch - 44ms/step\n",
      "Epoch 16/100\n",
      "91/91 - 4s - loss: 2.8000e-04 - 4s/epoch - 47ms/step\n",
      "Epoch 17/100\n",
      "91/91 - 4s - loss: 1.2704e-04 - 4s/epoch - 45ms/step\n",
      "Epoch 18/100\n",
      "91/91 - 4s - loss: 5.5816e-05 - 4s/epoch - 46ms/step\n",
      "Epoch 19/100\n",
      "91/91 - 4s - loss: 2.3756e-05 - 4s/epoch - 45ms/step\n",
      "Epoch 20/100\n",
      "91/91 - 4s - loss: 9.7978e-06 - 4s/epoch - 43ms/step\n",
      "Epoch 21/100\n",
      "91/91 - 4s - loss: 3.9171e-06 - 4s/epoch - 43ms/step\n",
      "Epoch 22/100\n",
      "91/91 - 4s - loss: 1.5185e-06 - 4s/epoch - 43ms/step\n",
      "Epoch 23/100\n",
      "91/91 - 4s - loss: 5.7095e-07 - 4s/epoch - 43ms/step\n",
      "Epoch 24/100\n",
      "91/91 - 4s - loss: 2.0829e-07 - 4s/epoch - 42ms/step\n",
      "Epoch 25/100\n",
      "91/91 - 4s - loss: 7.3747e-08 - 4s/epoch - 43ms/step\n",
      "Epoch 26/100\n",
      "91/91 - 4s - loss: 2.5348e-08 - 4s/epoch - 43ms/step\n",
      "Epoch 27/100\n",
      "91/91 - 4s - loss: 8.4615e-09 - 4s/epoch - 43ms/step\n",
      "Epoch 28/100\n",
      "91/91 - 4s - loss: 2.7445e-09 - 4s/epoch - 43ms/step\n",
      "Epoch 29/100\n",
      "91/91 - 4s - loss: 8.6520e-10 - 4s/epoch - 43ms/step\n",
      "Epoch 30/100\n",
      "91/91 - 4s - loss: 2.6508e-10 - 4s/epoch - 43ms/step\n",
      "Epoch 31/100\n",
      "91/91 - 4s - loss: 8.4188e-11 - 4s/epoch - 42ms/step\n",
      "Epoch 32/100\n",
      "91/91 - 4s - loss: 2.1448e-11 - 4s/epoch - 43ms/step\n",
      "Epoch 33/100\n",
      "91/91 - 4s - loss: 1.8676e-11 - 4s/epoch - 43ms/step\n",
      "Epoch 34/100\n",
      "91/91 - 4s - loss: 1.8676e-11 - 4s/epoch - 43ms/step\n",
      "Epoch 35/100\n",
      "91/91 - 4s - loss: 1.8303e-11 - 4s/epoch - 43ms/step\n",
      "Epoch 36/100\n",
      "91/91 - 4s - loss: 1.7656e-11 - 4s/epoch - 43ms/step\n",
      "Epoch 37/100\n",
      "91/91 - 4s - loss: 1.6960e-11 - 4s/epoch - 43ms/step\n",
      "Epoch 38/100\n",
      "91/91 - 4s - loss: 1.6380e-11 - 4s/epoch - 43ms/step\n",
      "Epoch 39/100\n",
      "91/91 - 4s - loss: 1.5823e-11 - 4s/epoch - 44ms/step\n",
      "Epoch 40/100\n",
      "91/91 - 4s - loss: 1.5266e-11 - 4s/epoch - 42ms/step\n",
      "Epoch 41/100\n",
      "91/91 - 4s - loss: 1.4785e-11 - 4s/epoch - 43ms/step\n",
      "Epoch 42/100\n",
      "91/91 - 4s - loss: 1.4342e-11 - 4s/epoch - 43ms/step\n",
      "Epoch 43/100\n",
      "91/91 - 4s - loss: 1.3904e-11 - 4s/epoch - 44ms/step\n",
      "Epoch 44/100\n",
      "91/91 - 4s - loss: 1.3506e-11 - 4s/epoch - 43ms/step\n",
      "Epoch 45/100\n",
      "91/91 - 4s - loss: 1.3114e-11 - 4s/epoch - 42ms/step\n",
      "Epoch 46/100\n",
      "91/91 - 4s - loss: 1.2763e-11 - 4s/epoch - 43ms/step\n",
      "Epoch 47/100\n",
      "91/91 - 4s - loss: 1.2421e-11 - 4s/epoch - 42ms/step\n",
      "Epoch 48/100\n",
      "91/91 - 4s - loss: 1.2121e-11 - 4s/epoch - 43ms/step\n",
      "Epoch 49/100\n",
      "91/91 - 4s - loss: 1.1834e-11 - 4s/epoch - 43ms/step\n",
      "Epoch 50/100\n",
      "91/91 - 4s - loss: 1.1591e-11 - 4s/epoch - 42ms/step\n",
      "Epoch 51/100\n",
      "91/91 - 4s - loss: 1.1251e-11 - 4s/epoch - 42ms/step\n",
      "Epoch 52/100\n",
      "91/91 - 4s - loss: 1.1023e-11 - 4s/epoch - 43ms/step\n",
      "Epoch 53/100\n",
      "91/91 - 4s - loss: 1.0853e-11 - 4s/epoch - 43ms/step\n",
      "Epoch 54/100\n",
      "91/91 - 4s - loss: 1.0569e-11 - 4s/epoch - 43ms/step\n",
      "Epoch 55/100\n",
      "91/91 - 4s - loss: 1.0373e-11 - 4s/epoch - 46ms/step\n",
      "Epoch 56/100\n",
      "91/91 - 4s - loss: 1.0236e-11 - 4s/epoch - 47ms/step\n",
      "Epoch 57/100\n",
      "91/91 - 4s - loss: 9.9599e-12 - 4s/epoch - 47ms/step\n",
      "Epoch 58/100\n",
      "91/91 - 4s - loss: 9.9076e-12 - 4s/epoch - 44ms/step\n",
      "Epoch 59/100\n",
      "91/91 - 4s - loss: 9.5918e-12 - 4s/epoch - 43ms/step\n",
      "Epoch 60/100\n",
      "91/91 - 4s - loss: 9.5866e-12 - 4s/epoch - 43ms/step\n",
      "Epoch 61/100\n",
      "91/91 - 4s - loss: 9.3000e-12 - 4s/epoch - 42ms/step\n",
      "Epoch 62/100\n",
      "91/91 - 4s - loss: 9.2697e-12 - 4s/epoch - 43ms/step\n",
      "Epoch 63/100\n",
      "91/91 - 4s - loss: 9.0691e-12 - 4s/epoch - 43ms/step\n",
      "Epoch 64/100\n",
      "91/91 - 4s - loss: 8.9581e-12 - 4s/epoch - 42ms/step\n",
      "Epoch 65/100\n",
      "91/91 - 4s - loss: 8.9381e-12 - 4s/epoch - 43ms/step\n",
      "Epoch 66/100\n",
      "91/91 - 4s - loss: 8.6519e-12 - 4s/epoch - 42ms/step\n",
      "Epoch 67/100\n",
      "91/91 - 4s - loss: 8.6519e-12 - 4s/epoch - 42ms/step\n",
      "Epoch 68/100\n",
      "91/91 - 4s - loss: 8.5965e-12 - 4s/epoch - 42ms/step\n",
      "Epoch 69/100\n",
      "91/91 - 4s - loss: 8.3510e-12 - 4s/epoch - 43ms/step\n",
      "Epoch 70/100\n",
      "91/91 - 4s - loss: 8.3510e-12 - 4s/epoch - 43ms/step\n",
      "Epoch 71/100\n",
      "91/91 - 4s - loss: 8.3510e-12 - 4s/epoch - 43ms/step\n",
      "Epoch 72/100\n",
      "91/91 - 4s - loss: 8.1130e-12 - 4s/epoch - 43ms/step\n",
      "Epoch 73/100\n",
      "91/91 - 4s - loss: 8.0554e-12 - 4s/epoch - 43ms/step\n",
      "Epoch 74/100\n",
      "91/91 - 4s - loss: 8.0554e-12 - 4s/epoch - 43ms/step\n",
      "Epoch 75/100\n",
      "91/91 - 4s - loss: 8.0554e-12 - 4s/epoch - 42ms/step\n",
      "Epoch 76/100\n",
      "91/91 - 4s - loss: 7.8086e-12 - 4s/epoch - 43ms/step\n",
      "Epoch 77/100\n",
      "91/91 - 4s - loss: 7.7651e-12 - 4s/epoch - 43ms/step\n",
      "Epoch 78/100\n",
      "91/91 - 4s - loss: 7.7651e-12 - 4s/epoch - 44ms/step\n",
      "Epoch 79/100\n",
      "91/91 - 4s - loss: 7.7651e-12 - 4s/epoch - 46ms/step\n",
      "Epoch 80/100\n",
      "91/91 - 4s - loss: 7.7651e-12 - 4s/epoch - 48ms/step\n",
      "Epoch 81/100\n",
      "91/91 - 4s - loss: 7.4933e-12 - 4s/epoch - 45ms/step\n",
      "Epoch 82/100\n",
      "91/91 - 4s - loss: 7.4802e-12 - 4s/epoch - 44ms/step\n",
      "Epoch 83/100\n",
      "91/91 - 4s - loss: 7.4802e-12 - 4s/epoch - 44ms/step\n",
      "Epoch 84/100\n",
      "91/91 - 4s - loss: 7.4802e-12 - 4s/epoch - 45ms/step\n",
      "Epoch 85/100\n",
      "91/91 - 4s - loss: 7.4802e-12 - 4s/epoch - 45ms/step\n",
      "Epoch 86/100\n",
      "91/91 - 4s - loss: 7.4802e-12 - 4s/epoch - 45ms/step\n",
      "Epoch 87/100\n",
      "91/91 - 4s - loss: 7.2891e-12 - 4s/epoch - 47ms/step\n",
      "Epoch 88/100\n",
      "91/91 - 4s - loss: 7.2006e-12 - 4s/epoch - 45ms/step\n",
      "Epoch 89/100\n",
      "91/91 - 4s - loss: 7.2006e-12 - 4s/epoch - 46ms/step\n",
      "Epoch 90/100\n",
      "91/91 - 4s - loss: 7.2006e-12 - 4s/epoch - 45ms/step\n",
      "Epoch 91/100\n",
      "91/91 - 4s - loss: 7.2006e-12 - 4s/epoch - 43ms/step\n",
      "Epoch 92/100\n",
      "91/91 - 4s - loss: 7.2006e-12 - 4s/epoch - 43ms/step\n",
      "Epoch 93/100\n",
      "91/91 - 4s - loss: 7.2006e-12 - 4s/epoch - 43ms/step\n",
      "Epoch 94/100\n",
      "91/91 - 4s - loss: 7.2006e-12 - 4s/epoch - 42ms/step\n",
      "Epoch 95/100\n",
      "91/91 - 4s - loss: 7.2006e-12 - 4s/epoch - 42ms/step\n",
      "Epoch 96/100\n",
      "91/91 - 4s - loss: 6.9866e-12 - 4s/epoch - 43ms/step\n",
      "Epoch 97/100\n",
      "91/91 - 4s - loss: 6.9263e-12 - 4s/epoch - 45ms/step\n",
      "Epoch 98/100\n",
      "91/91 - 4s - loss: 6.9263e-12 - 4s/epoch - 45ms/step\n",
      "Epoch 99/100\n",
      "91/91 - 4s - loss: 6.9263e-12 - 4s/epoch - 43ms/step\n",
      "Epoch 100/100\n",
      "91/91 - 4s - loss: 6.9263e-12 - 4s/epoch - 43ms/step\n"
     ]
    },
    {
     "data": {
      "text/plain": [
       "<keras.callbacks.History at 0x1ff817eac70>"
      ]
     },
     "execution_count": 43,
     "metadata": {},
     "output_type": "execute_result"
    }
   ],
   "source": [
    "# create and fit the LSTM network\n",
    "model = Sequential()\n",
    "model.add(LSTM(4, input_shape=(1, trainX.shape[2])))\n",
    "model.add(Dense(trainX.shape[2]))\n",
    "model.compile(loss=\"mean_squared_error\", optimizer=\"adam\")\n",
    "model.fit(trainX, trainY, epochs=100, batch_size=1, verbose=2)"
   ]
  },
  {
   "cell_type": "code",
   "execution_count": 46,
   "metadata": {},
   "outputs": [
    {
     "ename": "InternalError",
     "evalue": "stream did not block host until done; was already in an error state",
     "output_type": "error",
     "traceback": [
      "\u001b[1;31m---------------------------------------------------------------------------\u001b[0m",
      "\u001b[1;31mInternalError\u001b[0m                             Traceback (most recent call last)",
      "Cell \u001b[1;32mIn[46], line 1\u001b[0m\n\u001b[1;32m----> 1\u001b[0m \u001b[43mmodel\u001b[49m\u001b[38;5;241;43m.\u001b[39;49m\u001b[43msave\u001b[49m\u001b[43m(\u001b[49m\u001b[38;5;124;43m\"\u001b[39;49m\u001b[38;5;124;43m31424.h5\u001b[39;49m\u001b[38;5;124;43m\"\u001b[39;49m\u001b[43m)\u001b[49m\n",
      "File \u001b[1;32m~\\anaconda3\\lib\\site-packages\\keras\\utils\\traceback_utils.py:67\u001b[0m, in \u001b[0;36mfilter_traceback.<locals>.error_handler\u001b[1;34m(*args, **kwargs)\u001b[0m\n\u001b[0;32m     65\u001b[0m \u001b[38;5;28;01mexcept\u001b[39;00m \u001b[38;5;167;01mException\u001b[39;00m \u001b[38;5;28;01mas\u001b[39;00m e:  \u001b[38;5;66;03m# pylint: disable=broad-except\u001b[39;00m\n\u001b[0;32m     66\u001b[0m   filtered_tb \u001b[38;5;241m=\u001b[39m _process_traceback_frames(e\u001b[38;5;241m.\u001b[39m__traceback__)\n\u001b[1;32m---> 67\u001b[0m   \u001b[38;5;28;01mraise\u001b[39;00m e\u001b[38;5;241m.\u001b[39mwith_traceback(filtered_tb) \u001b[38;5;28;01mfrom\u001b[39;00m \u001b[38;5;28;01mNone\u001b[39;00m\n\u001b[0;32m     68\u001b[0m \u001b[38;5;28;01mfinally\u001b[39;00m:\n\u001b[0;32m     69\u001b[0m   \u001b[38;5;28;01mdel\u001b[39;00m filtered_tb\n",
      "File \u001b[1;32m~\\anaconda3\\lib\\site-packages\\tensorflow\\python\\framework\\ops.py:1127\u001b[0m, in \u001b[0;36m_EagerTensorBase._numpy\u001b[1;34m(self)\u001b[0m\n\u001b[0;32m   1125\u001b[0m   \u001b[38;5;28;01mreturn\u001b[39;00m \u001b[38;5;28mself\u001b[39m\u001b[38;5;241m.\u001b[39m_numpy_internal()\n\u001b[0;32m   1126\u001b[0m \u001b[38;5;28;01mexcept\u001b[39;00m core\u001b[38;5;241m.\u001b[39m_NotOkStatusException \u001b[38;5;28;01mas\u001b[39;00m e:  \u001b[38;5;66;03m# pylint: disable=protected-access\u001b[39;00m\n\u001b[1;32m-> 1127\u001b[0m   \u001b[38;5;28;01mraise\u001b[39;00m core\u001b[38;5;241m.\u001b[39m_status_to_exception(e) \u001b[38;5;28;01mfrom\u001b[39;00m \u001b[38;5;28;01mNone\u001b[39;00m\n",
      "\u001b[1;31mInternalError\u001b[0m: stream did not block host until done; was already in an error state"
     ]
    }
   ],
   "source": [
    "model.save(\"31424.h5\")"
   ]
  },
  {
   "cell_type": "code",
   "execution_count": 44,
   "metadata": {
    "colab": {
     "base_uri": "https://localhost:8080/"
    },
    "id": "hyA0JQKsddLV",
    "outputId": "ae83fd5f-289a-4e52-9dd5-fa7dc45cd221"
   },
   "outputs": [
    {
     "ename": "InternalError",
     "evalue": "Graph execution error:\n\nFailed to call ThenRnnForward with model config: [rnn_mode, rnn_input_mode, rnn_direction_mode]: 2, 0, 0 , [num_layers, input_size, num_units, dir_count, max_seq_length, batch_size, cell_num_units]: [1, 4000000, 4, 1, 1, 32, 4] \n\t [[{{node CudnnRNN}}]]\n\t [[sequential_2/lstm_2/PartitionedCall]] [Op:__inference_predict_function_43553]",
     "output_type": "error",
     "traceback": [
      "\u001b[1;31m---------------------------------------------------------------------------\u001b[0m",
      "\u001b[1;31mInternalError\u001b[0m                             Traceback (most recent call last)",
      "Cell \u001b[1;32mIn[44], line 2\u001b[0m\n\u001b[0;32m      1\u001b[0m \u001b[38;5;66;03m# make predictions\u001b[39;00m\n\u001b[1;32m----> 2\u001b[0m trainPredict \u001b[38;5;241m=\u001b[39m \u001b[43mmodel\u001b[49m\u001b[38;5;241;43m.\u001b[39;49m\u001b[43mpredict\u001b[49m\u001b[43m(\u001b[49m\u001b[43mtrainX\u001b[49m\u001b[43m)\u001b[49m\n\u001b[0;32m      3\u001b[0m testPredict \u001b[38;5;241m=\u001b[39m model\u001b[38;5;241m.\u001b[39mpredict(testX)\n\u001b[0;32m      4\u001b[0m testPredict\u001b[38;5;241m.\u001b[39mshape, testPredict, testPredict[\u001b[38;5;241m0\u001b[39m]\n",
      "File \u001b[1;32m~\\anaconda3\\lib\\site-packages\\keras\\utils\\traceback_utils.py:67\u001b[0m, in \u001b[0;36mfilter_traceback.<locals>.error_handler\u001b[1;34m(*args, **kwargs)\u001b[0m\n\u001b[0;32m     65\u001b[0m \u001b[38;5;28;01mexcept\u001b[39;00m \u001b[38;5;167;01mException\u001b[39;00m \u001b[38;5;28;01mas\u001b[39;00m e:  \u001b[38;5;66;03m# pylint: disable=broad-except\u001b[39;00m\n\u001b[0;32m     66\u001b[0m   filtered_tb \u001b[38;5;241m=\u001b[39m _process_traceback_frames(e\u001b[38;5;241m.\u001b[39m__traceback__)\n\u001b[1;32m---> 67\u001b[0m   \u001b[38;5;28;01mraise\u001b[39;00m e\u001b[38;5;241m.\u001b[39mwith_traceback(filtered_tb) \u001b[38;5;28;01mfrom\u001b[39;00m \u001b[38;5;28;01mNone\u001b[39;00m\n\u001b[0;32m     68\u001b[0m \u001b[38;5;28;01mfinally\u001b[39;00m:\n\u001b[0;32m     69\u001b[0m   \u001b[38;5;28;01mdel\u001b[39;00m filtered_tb\n",
      "File \u001b[1;32m~\\anaconda3\\lib\\site-packages\\tensorflow\\python\\eager\\execute.py:54\u001b[0m, in \u001b[0;36mquick_execute\u001b[1;34m(op_name, num_outputs, inputs, attrs, ctx, name)\u001b[0m\n\u001b[0;32m     52\u001b[0m \u001b[38;5;28;01mtry\u001b[39;00m:\n\u001b[0;32m     53\u001b[0m   ctx\u001b[38;5;241m.\u001b[39mensure_initialized()\n\u001b[1;32m---> 54\u001b[0m   tensors \u001b[38;5;241m=\u001b[39m pywrap_tfe\u001b[38;5;241m.\u001b[39mTFE_Py_Execute(ctx\u001b[38;5;241m.\u001b[39m_handle, device_name, op_name,\n\u001b[0;32m     55\u001b[0m                                       inputs, attrs, num_outputs)\n\u001b[0;32m     56\u001b[0m \u001b[38;5;28;01mexcept\u001b[39;00m core\u001b[38;5;241m.\u001b[39m_NotOkStatusException \u001b[38;5;28;01mas\u001b[39;00m e:\n\u001b[0;32m     57\u001b[0m   \u001b[38;5;28;01mif\u001b[39;00m name \u001b[38;5;129;01mis\u001b[39;00m \u001b[38;5;129;01mnot\u001b[39;00m \u001b[38;5;28;01mNone\u001b[39;00m:\n",
      "\u001b[1;31mInternalError\u001b[0m: Graph execution error:\n\nFailed to call ThenRnnForward with model config: [rnn_mode, rnn_input_mode, rnn_direction_mode]: 2, 0, 0 , [num_layers, input_size, num_units, dir_count, max_seq_length, batch_size, cell_num_units]: [1, 4000000, 4, 1, 1, 32, 4] \n\t [[{{node CudnnRNN}}]]\n\t [[sequential_2/lstm_2/PartitionedCall]] [Op:__inference_predict_function_43553]"
     ]
    }
   ],
   "source": [
    "# make predictions\n",
    "trainPredict = model.predict(trainX)\n",
    "testPredict = model.predict(testX)\n",
    "testPredict.shape, testPredict, testPredict[0]"
   ]
  },
  {
   "cell_type": "code",
   "execution_count": null,
   "metadata": {
    "colab": {
     "base_uri": "https://localhost:8080/"
    },
    "id": "d5WKozowddOD",
    "outputId": "db7b58a8-925e-40e8-d32b-b1f17ab2bd55",
    "scrolled": true
   },
   "outputs": [],
   "source": [
    "# We can reshape the output dataframe into the origional format\n",
    "testPredict[0].reshape(2000, 2000)"
   ]
  },
  {
   "cell_type": "code",
   "execution_count": null,
   "metadata": {
    "colab": {
     "base_uri": "https://localhost:8080/"
    },
    "id": "Vax0w0uZeqeU",
    "outputId": "62ac1200-d508-42f4-87d9-d3c28008f483"
   },
   "outputs": [],
   "source": [
    "trainY.shape"
   ]
  },
  {
   "cell_type": "code",
   "execution_count": null,
   "metadata": {
    "colab": {
     "base_uri": "https://localhost:8080/"
    },
    "id": "VueX4jnMeqhU",
    "outputId": "71b9be82-8540-4d00-c182-dfa8d9724727"
   },
   "outputs": [],
   "source": [
    "A = trainPredict[0]\n",
    "B = testY[0]\n",
    "mse = ((A - B) ** 2).mean()\n",
    "mse"
   ]
  },
  {
   "cell_type": "code",
   "execution_count": null,
   "metadata": {
    "colab": {
     "base_uri": "https://localhost:8080/",
     "height": 435
    },
    "id": "qVnoEexleqka",
    "outputId": "af830f35-135e-4add-a494-116eff60f668"
   },
   "outputs": [],
   "source": [
    "plt.imshow(testPredict[0].reshape(2000, 2000), cmap=\"hot\", interpolation=\"nearest\")\n",
    "plt.show()"
   ]
  },
  {
   "cell_type": "code",
   "execution_count": null,
   "metadata": {
    "colab": {
     "base_uri": "https://localhost:8080/",
     "height": 435
    },
    "id": "gyVDCBk4eqne",
    "outputId": "eab99229-76cd-4704-b435-628b5db6aa4d"
   },
   "outputs": [],
   "source": [
    "plt.imshow(testY[0].reshape(2000, 2000), cmap=\"hot\", interpolation=\"nearest\")\n",
    "plt.show()"
   ]
  },
  {
   "cell_type": "code",
   "execution_count": null,
   "metadata": {
    "colab": {
     "base_uri": "https://localhost:8080/",
     "height": 435
    },
    "id": "qpOt8Qhleqqe",
    "outputId": "38145178-fcb5-4623-f708-2efa3a504949"
   },
   "outputs": [],
   "source": [
    "plt.imshow(testPredict[0].reshape(2000, 2000), cmap=\"hot\", interpolation=\"nearest\")\n",
    "plt.show()"
   ]
  }
 ],
 "metadata": {
  "colab": {
   "provenance": []
  },
  "kernelspec": {
   "display_name": "Python 3 (ipykernel)",
   "language": "python",
   "name": "python3"
  },
  "language_info": {
   "codemirror_mode": {
    "name": "ipython",
    "version": 3
   },
   "file_extension": ".py",
   "mimetype": "text/x-python",
   "name": "python",
   "nbconvert_exporter": "python",
   "pygments_lexer": "ipython3",
   "version": "3.9.18"
  }
 },
 "nbformat": 4,
 "nbformat_minor": 1
}
