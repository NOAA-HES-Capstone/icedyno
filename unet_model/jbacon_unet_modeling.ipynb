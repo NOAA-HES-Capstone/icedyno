{
 "cells": [
  {
   "cell_type": "markdown",
   "metadata": {
    "id": "JYjXEHVOctJT"
   },
   "source": [
    "# Check to see if we're running in Colab (versus local server)"
   ]
  },
  {
   "cell_type": "code",
   "execution_count": 1,
   "metadata": {
    "colab": {
     "base_uri": "https://localhost:8080/"
    },
    "id": "1EWdW30icnzz",
    "outputId": "2e03f665-5e0d-4e17-8de1-51e3686a0672"
   },
   "outputs": [],
   "source": [
    "try:\n",
    "    from google.colab import drive\n",
    "\n",
    "    IN_COLAB = True\n",
    "except:\n",
    "    IN_COLAB = False\n",
    "\n",
    "if IN_COLAB:\n",
    "    print(\"We're running Colab\")"
   ]
  },
  {
   "cell_type": "markdown",
   "metadata": {
    "id": "vQ6hZkV_cpBr"
   },
   "source": [
    "# Mount the Google Drive (if we're in Colab), switch current directory to a directory on the Google Drive\n",
    "- we will (optionally) create the specified directory on the Google Drive if it doesn't exist\n",
    "\n",
    "- navigate to our Harvard Capstone shared folder -> right-click -> organize -> add shortcut -> all locations -> add \"My Drive\""
   ]
  },
  {
   "cell_type": "code",
   "execution_count": 2,
   "metadata": {
    "colab": {
     "base_uri": "https://localhost:8080/"
    },
    "id": "Wyo0Xe4vbX6n",
    "outputId": "c96ca0ee-7e29-4316-e97b-79b12d977606"
   },
   "outputs": [],
   "source": [
    "if IN_COLAB:\n",
    "    # Mount the Google Drive at mount\n",
    "    mount = \"/content/gdrive\"\n",
    "    print(\"Colab: mounting Google drive on \", mount)\n",
    "\n",
    "    drive.mount(mount)\n",
    "\n",
    "    # Switch to the directory on the Google Drive that you want to use\n",
    "    import os\n",
    "\n",
    "    drive_root = mount + \"/My Drive/Harvard Capstone/Modeling/UNet\"\n",
    "\n",
    "    # Create drive_root if it doesn't exist\n",
    "    # create_drive_root = True\n",
    "    # if create_drive_root:\n",
    "    #  print(\"\\nColab: making sure \", drive_root, \" exists.\")\n",
    "    #  os.makedirs(drive_root, exist_ok=True)\n",
    "\n",
    "    # Change to the directory\n",
    "    print(\"\\nColab: Changing directory to \", drive_root)\n",
    "    %cd $drive_root"
   ]
  },
  {
   "cell_type": "markdown",
   "metadata": {
    "id": "OKqlpKMnlCnh"
   },
   "source": [
    "# Work with files on the Google Drive\n",
    "- existing files\n",
    "- upload files to Google Drive (as per normal)\n",
    "- load files from external source"
   ]
  },
  {
   "cell_type": "code",
   "execution_count": 3,
   "metadata": {
    "colab": {
     "base_uri": "https://localhost:8080/",
     "height": 35
    },
    "id": "9gpzZZtUh30m",
    "outputId": "9728f5a5-934c-4332-b5e4-e19e15de1e00"
   },
   "outputs": [
    {
     "data": {
      "text/plain": [
       "'/home/bacon/code/personal/icedyno/unet_model'"
      ]
     },
     "execution_count": 3,
     "metadata": {},
     "output_type": "execute_result"
    }
   ],
   "source": [
    "# Verify we're in the correct working directory\n",
    "%pwd"
   ]
  },
  {
   "cell_type": "markdown",
   "metadata": {
    "id": "Rz8POlq3lHSq"
   },
   "source": [
    "## Verify that imports (of modules on the Google Drive) work"
   ]
  },
  {
   "cell_type": "code",
   "execution_count": 4,
   "metadata": {
    "id": "f2Hsz8qQlGvo"
   },
   "outputs": [],
   "source": [
    "import glob, json, os\n",
    "import datetime as dt\n",
    "from IPython.display import HTML\n",
    "\n",
    "import pandas as pd\n",
    "import numpy as np\n",
    "import xarray as xr\n",
    "import matplotlib.pyplot as plt\n",
    "from sklearn.model_selection import train_test_split\n",
    "from sklearn.ensemble import RandomForestClassifier\n",
    "from sklearn.metrics import accuracy_score\n",
    "\n",
    "import tensorflow as tf\n",
    "from tensorflow.keras.models import Model\n",
    "from tensorflow.keras.layers import (\n",
    "    Input,\n",
    "    Conv2D,\n",
    "    MaxPooling2D,\n",
    "    Dropout,\n",
    "    Conv2DTranspose,\n",
    "    concatenate,\n",
    "    Input,\n",
    "    Lambda,\n",
    "    Activation,\n",
    ")\n",
    "from tensorflow.keras.callbacks import ModelCheckpoint, EarlyStopping\n",
    "from tensorflow.keras.optimizers import Adam\n",
    "from tensorflow.keras.layers import (\n",
    "    Conv2D,\n",
    "    MaxPooling2D,\n",
    "    concatenate,\n",
    "    Conv2DTranspose,\n",
    "    Input,\n",
    "    Lambda,\n",
    "    Activation,\n",
    "    Add,\n",
    "    Reshape,\n",
    ")\n",
    "from tensorflow.keras.models import Model"
   ]
  },
  {
   "cell_type": "code",
   "execution_count": 5,
   "metadata": {
    "id": "dzcSg_26piy6"
   },
   "outputs": [
    {
     "name": "stderr",
     "output_type": "stream",
     "text": [
      "2024-03-23 12:35:41.844238: I tensorflow/stream_executor/cuda/cuda_gpu_executor.cc:937] successful NUMA node read from SysFS had negative value (-1), but there must be at least one NUMA node, so returning NUMA node zero\n",
      "2024-03-23 12:35:41.887384: I tensorflow/stream_executor/cuda/cuda_gpu_executor.cc:937] successful NUMA node read from SysFS had negative value (-1), but there must be at least one NUMA node, so returning NUMA node zero\n",
      "2024-03-23 12:35:41.887706: I tensorflow/stream_executor/cuda/cuda_gpu_executor.cc:937] successful NUMA node read from SysFS had negative value (-1), but there must be at least one NUMA node, so returning NUMA node zero\n"
     ]
    }
   ],
   "source": [
    "data_root = \"ims_netcdf_1km_cropped_2_000km_window_74lat_-170lon/\"\n",
    "if not IN_COLAB:\n",
    "    data_root = os.path.join(\"..\", \"data\", data_root)\n",
    "    tf.config.set_visible_devices([], \"GPU\")\n",
    "WINDOW_SIZE = 2000  # km"
   ]
  },
  {
   "cell_type": "markdown",
   "metadata": {
    "id": "HCLz7nyLun6k"
   },
   "source": [
    "## Data Processing: XArray and Numpy\n"
   ]
  },
  {
   "cell_type": "code",
   "execution_count": 6,
   "metadata": {
    "id": "J_uYc9VMujWV"
   },
   "outputs": [],
   "source": [
    "# Define a function to load a single .nc file for a given year and day\n",
    "def load_nc_file(year, day) -> xr.Dataset:\n",
    "    \"\"\"Loads the cropped, grid-corrected netcdf files on the Beaufort Sea with 74,0lat_-170,0lon\"\"\"\n",
    "    # Generate the file path based on the year and day\n",
    "    file_path = os.path.join(\n",
    "        data_root,\n",
    "        str(year),\n",
    "        f\"ims{year}{day:03d}_1km_v1.3_grid{WINDOW_SIZE}_74,0lat_-170,0lon.nc\",\n",
    "    )\n",
    "\n",
    "    # Load the .nc file using xarray\n",
    "    with xr.open_dataset(file_path) as dataset:\n",
    "        return dataset"
   ]
  },
  {
   "cell_type": "code",
   "execution_count": 7,
   "metadata": {
    "id": "ui-tRfxBjY6B"
   },
   "outputs": [],
   "source": [
    "def crop_to_beaufort_sea(ds: xr.Dataset, window_size: int) -> xr.Dataset:\n",
    "    \"\"\"\n",
    "    Center window on beaufort sea coordinates in **current** netcdf coordinate system (not quite polar stereographic) and\n",
    "    crop to WINDOW_SIZE x WINDOW_SIZE (not 2*window size x 2*window size as was previously)\n",
    "    \"\"\"\n",
    "    # Beaufort Sea x, y in **current** IMS netcdf coordinate system\n",
    "    x = -1652603.364653003  # meters\n",
    "    y = -291398.56159791426  # meters\n",
    "\n",
    "    # These x, y in convert back to the below with current geolocation.py functions.\n",
    "    ## longitude: -80.0, latitude: 74.0\n",
    "    # Actual Beaufort Sea coordinates are closer to longitude: -140, latitude: 74.\n",
    "\n",
    "    beaufort_ds = ds.sel(\n",
    "        x=slice(x - 1000 * window_size // 2, x + 1000 * window_size // 2),\n",
    "        y=slice(y - 1000 * window_size // 2, y + 1000 * window_size // 2),\n",
    "    )\n",
    "    return beaufort_ds"
   ]
  },
  {
   "cell_type": "code",
   "execution_count": 8,
   "metadata": {
    "id": "TbKOBHXaytLN"
   },
   "outputs": [],
   "source": [
    "def load_sie_data(year, day) -> np.array:\n",
    "    \"\"\"Returns a 2D numpy array copy of the IMS surface values\"\"\"\n",
    "    return load_nc_file(year, day).IMS_Surface_Values[0].values.copy()"
   ]
  },
  {
   "cell_type": "code",
   "execution_count": 9,
   "metadata": {
    "id": "l0SnpTY11oiw"
   },
   "outputs": [],
   "source": [
    "def load_target_sie_data(year, day) -> np.array:\n",
    "    \"\"\"Returns a 2D numpy array copy of the IMS surface values\"\"\"\n",
    "    ds = load_nc_file(year, day)\n",
    "    sie = ds.IMS_Surface_Values[0].values.copy()\n",
    "    binary_sie = sie.copy()\n",
    "    binary_sie[sie != 3] = 0\n",
    "\n",
    "    # Sea and Lake Ice is treated as 1\n",
    "    binary_sie[sie == 3] = 1\n",
    "    return binary_sie"
   ]
  },
  {
   "cell_type": "code",
   "execution_count": 10,
   "metadata": {
    "id": "SR_qBhtuzRYP"
   },
   "outputs": [],
   "source": [
    "def binarize_data(sie: np.array) -> np.array:\n",
    "    \"\"\"\n",
    "    New SIE:\n",
    "    0: Open water/out of bounds\n",
    "    1: Sea ice or lake ice (lake mask not applied)\n",
    "    2: Land\n",
    "    \"\"\"\n",
    "    binary_sie = sie.copy()\n",
    "    binary_sie[sie != 3] = 0\n",
    "\n",
    "    # Sea and Lake Ice is treated as 1\n",
    "    binary_sie[sie == 3] = 1\n",
    "\n",
    "    # Land and Snow-Covered Land is sent to 2.\n",
    "    binary_sie[sie == 2] = 2\n",
    "    binary_sie[sie == 4] = 2\n",
    "    return binary_sie"
   ]
  },
  {
   "cell_type": "code",
   "execution_count": 11,
   "metadata": {
    "id": "XK74-F6I6uv5"
   },
   "outputs": [],
   "source": [
    "def load_n_day_chunk(year: int, day: int, n=4) -> np.array:\n",
    "    \"\"\"\n",
    "    Return np.array with shape (height, width, channels).\n",
    "\n",
    "    Does NOT wrap years or account for missing days.\n",
    "    Starts n_day chunk at specified day, year.\n",
    "\n",
    "    Returns:\n",
    "        np.array: shape (sie_y_shape, sie_x_shape, n_day)\n",
    "    \"\"\"\n",
    "    sie_chunk = []\n",
    "    for day in range(day, day + n):\n",
    "        sie = binarize_data(load_sie_data(year, day))\n",
    "        sie_chunk.append(sie)\n",
    "\n",
    "    assert len(sie_chunk) == n\n",
    "    # Use np.stack to stack the individual 2D arrays along a new third axis, resulting in (height, width, channels)\n",
    "    return np.stack(sie_chunk, axis=-1)"
   ]
  },
  {
   "cell_type": "markdown",
   "metadata": {
    "id": "0jzLlnYC3NXT"
   },
   "source": [
    "## Example usage"
   ]
  },
  {
   "cell_type": "code",
   "execution_count": 12,
   "metadata": {
    "colab": {
     "base_uri": "https://localhost:8080/",
     "height": 435
    },
    "id": "gbF6ZpdDukLT",
    "outputId": "210099b5-9e63-4eab-d66b-54dcf33c131f"
   },
   "outputs": [
    {
     "data": {
      "image/png": "[encoded data removed]",
      "text/plain": [
       "<Figure size 640x480 with 1 Axes>"
      ]
     },
     "metadata": {},
     "output_type": "display_data"
    }
   ],
   "source": [
    "# Example usage:\n",
    "example = True\n",
    "if example:\n",
    "    year = 2023\n",
    "    day = 150\n",
    "    data = load_nc_file(year, day)\n",
    "    multiclass_sie = load_sie_data(year, day)\n",
    "    sie = binarize_data(multiclass_sie)\n",
    "    plt.imshow(sie)"
   ]
  },
  {
   "cell_type": "markdown",
   "metadata": {
    "id": "KtZScGB68EEj"
   },
   "source": [
    "# Data Processing: Loading data for Tensorflow"
   ]
  },
  {
   "cell_type": "markdown",
   "metadata": {
    "id": "LlkL2oECSHhf"
   },
   "source": [
    "# Data generator for all data available\n",
    "To be used as either train or test data generator, depending on slice of filenames passed in."
   ]
  },
  {
   "cell_type": "code",
   "execution_count": 13,
   "metadata": {
    "id": "RVeGt-1c_zww"
   },
   "outputs": [],
   "source": [
    "class AllDataGenerator(tf.keras.utils.Sequence):\n",
    "    \"\"\"\n",
    "    Generator for Keras training to allow multiprocessing and training on batches with only the\n",
    "    batch itself being loaded into memory.\n",
    "\n",
    "    \"\"\"\n",
    "\n",
    "    def __init__(\n",
    "        self,\n",
    "        filenames: list[str],\n",
    "        batch_size: int = 2,\n",
    "        dim: tuple = (8000, 8000, 5),\n",
    "        shuffle: bool = True,\n",
    "    ):\n",
    "        self.filenames = sorted(filenames)\n",
    "        self.years = self.years_from_filenames()\n",
    "        self.days = self.days_from_filenames()\n",
    "        self.batch_size = batch_size\n",
    "        self.dim = dim  # (height, width, channel)\n",
    "        self.shuffle = True\n",
    "        self.data_IDs = self._get_data_ids()\n",
    "        self.on_epoch_end()\n",
    "\n",
    "    def years_from_filenames(self):\n",
    "        years = [\n",
    "            int(file.split(\"/\")[-1].split(\"ims\")[1][:4]) for file in self.filenames\n",
    "        ]\n",
    "        return years\n",
    "\n",
    "    def days_from_filenames(self):\n",
    "        days = [int(file.split(\"/\")[-1].split(\"_\")[0][-3:]) for file in self.filenames]\n",
    "        return days\n",
    "\n",
    "    def _get_data_ids(self):\n",
    "        return list(zip(self.years, self.days))\n",
    "\n",
    "    def get_years_days_of_batch(self, index: int):\n",
    "        \"\"\"Given a batch index, return a list of the year and days for that batch\"\"\"\n",
    "        years = self.years[index * self.batch_size : (index + 1) * self.batch_size]\n",
    "        days = self.days[index * self.batch_size : (index + 1) * self.batch_size]\n",
    "        return list(zip(years, days))\n",
    "\n",
    "    def __len__(self):\n",
    "        \"\"\"Number of batches per epoch\"\"\"\n",
    "        return len(self.data_IDs) // self.batch_size\n",
    "\n",
    "    def __getitem__(self, index):\n",
    "        \"\"\"Generate one batch of data\"\"\"\n",
    "        # Collect data IDs for this batch number\n",
    "        batch_data_ids = self.data_IDs[\n",
    "            index * self.batch_size : (index + 1) * self.batch_size\n",
    "        ]\n",
    "\n",
    "        # Generate data\n",
    "        X, y = self._data_generation(batch_data_ids)\n",
    "\n",
    "        return X.astype(\"float16\"), y.astype(\"int32\")\n",
    "\n",
    "    def on_epoch_end(self):\n",
    "        \"\"\"Updates indexes after each epoch\"\"\"\n",
    "        if self.shuffle:\n",
    "            np.random.shuffle(self.data_IDs)\n",
    "\n",
    "    def load_n_day_chunk(self, i, n):\n",
    "        \"\"\"Starts at year, day and returns the next n days of processed SIE.\"\"\"\n",
    "        days = self.days[i : i + n]\n",
    "        years = self.years[i : i + n]\n",
    "\n",
    "        sie_chunk = []\n",
    "        for year, day in zip(years, days):\n",
    "            sie = binarize_data(load_sie_data(year, day))\n",
    "            sie_chunk.append(sie)\n",
    "\n",
    "        assert len(sie_chunk) == n\n",
    "        # Use np.stack to stack the individual 2D arrays along a new third axis, resulting in (height, width, channels)\n",
    "        return np.stack(sie_chunk, axis=-1)\n",
    "\n",
    "    def _data_generation(self, batch_data_ids):\n",
    "        \"\"\"Generates data containing batch_size samples\"\"\"\n",
    "        X = np.empty((self.batch_size, *self.dim), dtype=\"float16\")\n",
    "        y = np.empty((self.batch_size, self.dim[0], self.dim[1], 1), dtype=\"int32\")\n",
    "\n",
    "        for i, (year, day) in enumerate(batch_data_ids):\n",
    "            # Load a 5-day chunk as the input\n",
    "            X[i,] = self.load_n_day_chunk(i, self.dim[2])\n",
    "            # Load the next day as the target\n",
    "            y[i,] = np.expand_dims(\n",
    "                load_target_sie_data(\n",
    "                    self.years[i + self.dim[2]], self.days[i + self.dim[2]]\n",
    "                ),\n",
    "                axis=-1,\n",
    "            )\n",
    "\n",
    "        return X, y"
   ]
  },
  {
   "cell_type": "markdown",
   "metadata": {
    "id": "1qnZICkoWQCG"
   },
   "source": [
    "# Test/Train split"
   ]
  },
  {
   "cell_type": "code",
   "execution_count": 14,
   "metadata": {
    "colab": {
     "base_uri": "https://localhost:8080/"
    },
    "id": "kJL6GG2AWPmr",
    "outputId": "06dea8b2-2efd-4b49-ec88-cf5300ff20c7"
   },
   "outputs": [
    {
     "name": "stdout",
     "output_type": "stream",
     "text": [
      "Number of Train files is:  2344\n",
      "Number of Test files is:  669\n",
      "Number of Validation files is:  336\n"
     ]
    }
   ],
   "source": [
    "test_frac = 0.2\n",
    "validation_frac = 0.1\n",
    "\n",
    "train_frac = 1 - validation_frac - test_frac\n",
    "all_netcdf_files = glob.glob(data_root + \"/**/*.nc\", recursive=True)\n",
    "\n",
    "train_idx = int(len(all_netcdf_files) * train_frac)\n",
    "test_idx = train_idx + int(len(all_netcdf_files) * test_frac)\n",
    "\n",
    "train_files = all_netcdf_files[:train_idx]\n",
    "test_files = all_netcdf_files[train_idx:test_idx]\n",
    "validation_files = all_netcdf_files[test_idx:]\n",
    "\n",
    "print(\"Number of Train files is: \", len(train_files))\n",
    "print(\"Number of Test files is: \", len(test_files))\n",
    "print(\"Number of Validation files is: \", len(validation_files))"
   ]
  },
  {
   "cell_type": "markdown",
   "metadata": {
    "id": "4-YSJYkJ3qUm"
   },
   "source": [
    "### Model prototype\n",
    "Very simple UNet model that takes the entire region of interest in and outputs an image of the same size."
   ]
  },
  {
   "cell_type": "code",
   "execution_count": 15,
   "metadata": {
    "id": "xWORYNWN_xyC"
   },
   "outputs": [],
   "source": [
    "def simple_unet_with_sigmoid(input_shape=(4000 * 2, 4000 * 2, 5)):\n",
    "    inputs = Input(input_shape)\n",
    "    # Downsample\n",
    "    c1 = Conv2D(16, (3, 3), activation=\"relu\", padding=\"same\")(inputs)\n",
    "    p1 = MaxPooling2D((2, 2))(c1)\n",
    "    c2 = Conv2D(32, (3, 3), activation=\"relu\", padding=\"same\")(p1)\n",
    "    p2 = MaxPooling2D((2, 2))(c2)\n",
    "    # Bottleneck\n",
    "    b = Conv2D(64, (3, 3), activation=\"relu\", padding=\"same\")(p2)\n",
    "    # Upsample\n",
    "    u1 = Conv2DTranspose(32, (2, 2), strides=(2, 2), padding=\"same\")(b)\n",
    "    u1 = concatenate([u1, c2])\n",
    "    u2 = Conv2DTranspose(16, (2, 2), strides=(2, 2), padding=\"same\")(u1)\n",
    "    u2 = concatenate([u2, c1])\n",
    "    outputs = Conv2D(1, (1, 1), activation=\"sigmoid\")(u2)  # 0, 1, 2\n",
    "    model = Model(inputs=[inputs], outputs=[outputs])\n",
    "    return model\n",
    "\n",
    "\n",
    "def simple_unet_with_softmax(input_shape=(4000 * 2, 4000 * 2, 5)):\n",
    "    inputs = Input(input_shape)\n",
    "    # Downsample\n",
    "    c1 = Conv2D(16, (3, 3), activation=\"relu\", padding=\"same\")(inputs)\n",
    "    p1 = MaxPooling2D((2, 2))(c1)\n",
    "    c2 = Conv2D(32, (3, 3), activation=\"relu\", padding=\"same\")(p1)\n",
    "    p2 = MaxPooling2D((2, 2))(c2)\n",
    "    # Bottleneck\n",
    "    b = Conv2D(64, (3, 3), activation=\"relu\", padding=\"same\")(p2)\n",
    "    # Upsample\n",
    "    u1 = Conv2DTranspose(32, (2, 2), strides=(2, 2), padding=\"same\")(b)\n",
    "    u1 = concatenate([u1, c2])\n",
    "    u2 = Conv2DTranspose(16, (2, 2), strides=(2, 2), padding=\"same\")(u1)\n",
    "    u2 = concatenate([u2, c1])\n",
    "    outputs = Conv2D(1, (1, 1), activation=\"sigmoid\")(u2)  # 0, 1, 2\n",
    "    model = Model(inputs=[inputs], outputs=[outputs])\n",
    "    return model\n",
    "\n",
    "\n",
    "def simple_unet_with_skip(input_shape: tuple[int, int, int]):\n",
    "    \"\"\"\n",
    "    Unet to predict the change in sea ice concentration by adding last day's forecast\n",
    "    to model output, then sigmoid activation for pixel-wise classification.\n",
    "    \"\"\"\n",
    "    inputs = Input(input_shape)\n",
    "    # Slice the last channel of the input\n",
    "    last_channel = Lambda(lambda x: x[:, :, :, -1:])(\n",
    "        inputs\n",
    "    )  # Assuming the last channel is what we want to add to the output\n",
    "\n",
    "    # Downsample\n",
    "    c1 = Conv2D(16, (3, 3), activation=\"relu\", padding=\"same\")(inputs)\n",
    "    p1 = MaxPooling2D((2, 2))(c1)\n",
    "    c2 = Conv2D(32, (3, 3), activation=\"relu\", padding=\"same\")(p1)\n",
    "    p2 = MaxPooling2D((2, 2))(c2)\n",
    "\n",
    "    # Bottleneck\n",
    "    b = Conv2D(64, (3, 3), activation=\"relu\", padding=\"same\")(p2)\n",
    "\n",
    "    # Upsample\n",
    "    u1 = Conv2DTranspose(32, (2, 2), strides=(2, 2), padding=\"same\")(b)\n",
    "    u1 = concatenate([u1, c2])\n",
    "    u2 = Conv2DTranspose(16, (2, 2), strides=(2, 2), padding=\"same\")(u1)\n",
    "    u2 = concatenate([u2, c1])\n",
    "\n",
    "    # Concatenate the last channel of the input with the last upsampled features before the final convolution\n",
    "    pre_output = concatenate([u2, last_channel], axis=-1)\n",
    "\n",
    "    # Final convolution without activation\n",
    "    outputs = Conv2D(1, (1, 1), padding=\"same\", activation=\"softmax\")(pre_output)\n",
    "\n",
    "    model = Model(inputs=[inputs], outputs=[outputs])\n",
    "    return model"
   ]
  },
  {
   "cell_type": "markdown",
   "metadata": {
    "id": "Ap-87s6j324g"
   },
   "source": [
    "# Model Training"
   ]
  },
  {
   "cell_type": "code",
   "execution_count": 16,
   "metadata": {
    "id": "TscI1oFMQo3y"
   },
   "outputs": [],
   "source": [
    "# Example usage\n",
    "batch_size = 1\n",
    "dim = (WINDOW_SIZE, WINDOW_SIZE, 3)\n",
    "\n",
    "train_generator = AllDataGenerator(train_files, batch_size=batch_size, dim=dim)\n",
    "test_generator = AllDataGenerator(test_files, batch_size=batch_size, dim=dim)"
   ]
  },
  {
   "cell_type": "code",
   "execution_count": 17,
   "metadata": {
    "id": "HsQeOTpEbQPT"
   },
   "outputs": [
    {
     "name": "stderr",
     "output_type": "stream",
     "text": [
      "2024-03-23 12:35:42.780161: I tensorflow/core/platform/cpu_feature_guard.cc:142] This TensorFlow binary is optimized with oneAPI Deep Neural Network Library (oneDNN) to use the following CPU instructions in performance-critical operations:  SSE4.1 SSE4.2 AVX AVX2 FMA\n",
      "To enable them in other operations, rebuild TensorFlow with the appropriate compiler flags.\n"
     ]
    }
   ],
   "source": [
    "# Setup model checkpointing\n",
    "import datetime\n",
    "\n",
    "datetime_string = datetime.datetime.now().strftime(\"%I:%M%p_%B_%d_%Y\")\n",
    "\n",
    "# Model checkpoint foldernames now generated by datetime (won't overwrite previous runs)\n",
    "checkpoint_dir = f\"./model_checkpoints/jbacon/unet_{datetime_string}_{WINDOW_SIZE}km/\"\n",
    "if not os.path.exists(checkpoint_dir):\n",
    "    os.makedirs(checkpoint_dir)\n",
    "checkpoint_path = os.path.join(checkpoint_dir, \"cp-{epoch:04d}.ckpt\")\n",
    "\n",
    "checkpoint_callback = ModelCheckpoint(\n",
    "    filepath=checkpoint_path,\n",
    "    save_weights_only=False,\n",
    "    monitor=\"loss\",\n",
    "    mode=\"min\",\n",
    "    save_best_only=True,\n",
    "    verbose=1,\n",
    ")\n",
    "\n",
    "early_stopping_callback = EarlyStopping(\n",
    "    monitor=\"loss\", patience=10, verbose=1, mode=\"min\"\n",
    ")\n",
    "\n",
    "model = simple_unet_with_softmax(input_shape=dim)  # skip(input_shape=dim)\n",
    "model.compile(\n",
    "    optimizer=\"adam\", loss=\"binary_crossentropy\", metrics=[\"accuracy\"]\n",
    ")  #'binary_crossentropy', metrics=['accuracy']) 'sparse_categorical_crossentropy'"
   ]
  },
  {
   "cell_type": "code",
   "execution_count": 18,
   "metadata": {
    "id": "MsLENCJXfvkZ"
   },
   "outputs": [],
   "source": [
    "# Log model parameters\n",
    "with open(os.path.join(checkpoint_dir, \"model_params.json\"), \"w\") as f:\n",
    "    f.write(model.to_json())"
   ]
  },
  {
   "cell_type": "code",
   "execution_count": 19,
   "metadata": {
    "colab": {
     "base_uri": "https://localhost:8080/"
    },
    "id": "X9LCjLY83Jkk",
    "outputId": "b003fdfc-7934-456f-f55a-8dda5a51d7ab"
   },
   "outputs": [
    {
     "name": "stdout",
     "output_type": "stream",
     "text": [
      "Model: \"model\"\n",
      "__________________________________________________________________________________________________\n",
      "Layer (type)                    Output Shape         Param #     Connected to                     \n",
      "==================================================================================================\n",
      "input_1 (InputLayer)            [(None, 2000, 2000,  0                                            \n",
      "__________________________________________________________________________________________________\n",
      "conv2d (Conv2D)                 (None, 2000, 2000, 1 448         input_1[0][0]                    \n",
      "__________________________________________________________________________________________________\n",
      "max_pooling2d (MaxPooling2D)    (None, 1000, 1000, 1 0           conv2d[0][0]                     \n",
      "__________________________________________________________________________________________________\n",
      "conv2d_1 (Conv2D)               (None, 1000, 1000, 3 4640        max_pooling2d[0][0]              \n",
      "__________________________________________________________________________________________________\n",
      "max_pooling2d_1 (MaxPooling2D)  (None, 500, 500, 32) 0           conv2d_1[0][0]                   \n",
      "__________________________________________________________________________________________________\n",
      "conv2d_2 (Conv2D)               (None, 500, 500, 64) 18496       max_pooling2d_1[0][0]            \n",
      "__________________________________________________________________________________________________\n",
      "conv2d_transpose (Conv2DTranspo (None, 1000, 1000, 3 8224        conv2d_2[0][0]                   \n",
      "__________________________________________________________________________________________________\n",
      "concatenate (Concatenate)       (None, 1000, 1000, 6 0           conv2d_transpose[0][0]           \n",
      "                                                                 conv2d_1[0][0]                   \n",
      "__________________________________________________________________________________________________\n",
      "conv2d_transpose_1 (Conv2DTrans (None, 2000, 2000, 1 4112        concatenate[0][0]                \n",
      "__________________________________________________________________________________________________\n",
      "concatenate_1 (Concatenate)     (None, 2000, 2000, 3 0           conv2d_transpose_1[0][0]         \n",
      "                                                                 conv2d[0][0]                     \n",
      "__________________________________________________________________________________________________\n",
      "conv2d_3 (Conv2D)               (None, 2000, 2000, 1 33          concatenate_1[0][0]              \n",
      "==================================================================================================\n",
      "Total params: 35,953\n",
      "Trainable params: 35,953\n",
      "Non-trainable params: 0\n",
      "__________________________________________________________________________________________________\n"
     ]
    }
   ],
   "source": [
    "model.summary()"
   ]
  },
  {
   "cell_type": "code",
   "execution_count": null,
   "metadata": {
    "colab": {
     "base_uri": "https://localhost:8080/"
    },
    "id": "BIK7kxOlZTxw",
    "outputId": "bcf637b9-a78b-4e35-9a71-d0ed8c55379f"
   },
   "outputs": [
    {
     "name": "stdout",
     "output_type": "stream",
     "text": [
      "Epoch 1/20\n",
      "2344/2344 [==============================] - 7278s 3s/step - loss: 1.2299e-04 - accuracy: 1.0000\n",
      "\n",
      "Epoch 00001: loss improved from inf to 0.00012, saving model to ./model_checkpoints/jbacon/unet_12:35PM_March_23_2024_2000km/cp-0001.ckpt\n"
     ]
    },
    {
     "name": "stderr",
     "output_type": "stream",
     "text": [
      "2024-03-23 14:43:53.983464: W tensorflow/python/util/util.cc:348] Sets are not currently considered sequences, but this may change in the future, so consider avoiding using them.\n"
     ]
    },
    {
     "name": "stdout",
     "output_type": "stream",
     "text": [
      "INFO:tensorflow:Assets written to: ./model_checkpoints/jbacon/unet_12:35PM_March_23_2024_2000km/cp-0001.ckpt/assets\n",
      "Epoch 2/20\n",
      "2344/2344 [==============================] - 7258s 3s/step - loss: 1.6113e-07 - accuracy: 1.0000\n",
      "\n",
      "Epoch 00002: loss improved from 0.00012 to 0.00000, saving model to ./model_checkpoints/jbacon/unet_12:35PM_March_23_2024_2000km/cp-0002.ckpt\n",
      "INFO:tensorflow:Assets written to: ./model_checkpoints/jbacon/unet_12:35PM_March_23_2024_2000km/cp-0002.ckpt/assets\n",
      "Epoch 3/20\n",
      "2344/2344 [==============================] - 7407s 3s/step - loss: 3.6367e-08 - accuracy: 1.0000\n",
      "\n",
      "Epoch 00003: loss improved from 0.00000 to 0.00000, saving model to ./model_checkpoints/jbacon/unet_12:35PM_March_23_2024_2000km/cp-0003.ckpt\n",
      "INFO:tensorflow:Assets written to: ./model_checkpoints/jbacon/unet_12:35PM_March_23_2024_2000km/cp-0003.ckpt/assets\n",
      "Epoch 4/20\n",
      "1885/2344 [=======================>......] - ETA: 24:22 - loss: 1.3922e-08 - accuracy: 1.0000"
     ]
    }
   ],
   "source": [
    "# Train the model\n",
    "history = model.fit(\n",
    "    train_generator,\n",
    "    epochs=20,\n",
    "    use_multiprocessing=True,\n",
    "    callbacks=[checkpoint_callback, early_stopping_callback],\n",
    ")\n",
    "\n",
    "# Save the final model\n",
    "model.save(os.path.join(checkpoint_path, \"unet_with_2d_output_model.h5\"))"
   ]
  },
  {
   "cell_type": "code",
   "execution_count": null,
   "metadata": {
    "colab": {
     "base_uri": "https://localhost:8080/",
     "height": 449
    },
    "id": "85HoU8we3HsR",
    "outputId": "c631f942-da43-426d-e686-9ab76257bd23"
   },
   "outputs": [],
   "source": [
    "# Plot training history\n",
    "plt.plot(history.history[\"loss\"], label=\"Loss\")\n",
    "plt.plot(history.history[\"accuracy\"], label=\"Accuracy\")\n",
    "plt.xlabel(\"Epochs\")\n",
    "plt.ylabel(\"Metric\")\n",
    "plt.legend()\n",
    "plt.show()"
   ]
  },
  {
   "cell_type": "markdown",
   "metadata": {
    "id": "Xwvbbr-CF3wr"
   },
   "source": [
    "# Model Predictions"
   ]
  },
  {
   "cell_type": "code",
   "execution_count": null,
   "metadata": {
    "colab": {
     "base_uri": "https://localhost:8080/",
     "height": 626
    },
    "id": "b5LAJ53_LrhC",
    "outputId": "566904e4-059f-47e2-83b4-054ba324073d"
   },
   "outputs": [],
   "source": [
    "def plot_model_predictions_with_errors(\n",
    "    X: np.array, y_true: np.array, y_pred: np.array, year: int, day: int\n",
    "):\n",
    "    \"\"\"\n",
    "    Parameters:\n",
    "     - X: np.array of shape (window_size, window_size, n_forecasts)\n",
    "     - y_true: np.array of 0,1,2 (window_size, window_size, 1)\n",
    "     - y_pred: model output (window_size, window_size, 1)\n",
    "     - year: Integer year like 2023, for titling plot\n",
    "     - day: Integer day like 18, for titling plot\n",
    "    \"\"\"\n",
    "    # Calculate the incorrect predictions (difference between the predicted and true labels)\n",
    "    incorrect_predictions = np.not_equal(np.round(y_pred), y_true).astype(int)\n",
    "\n",
    "    # Plotting the first example of the batch\n",
    "    fig, axes = plt.subplots(1, 4, figsize=(25, 10))\n",
    "\n",
    "    # Plot the last channel of input which is the most recent SIE\n",
    "    axes[0].imshow(X[:, :, -1], cmap=\"viridis\")\n",
    "    axes[0].set_title(\"Most Recent SIE Input\")\n",
    "    axes[0].axis(\"off\")\n",
    "\n",
    "    # Plot the true label for next day's SIE\n",
    "    axes[1].imshow(y_true[:, :, 0], cmap=\"viridis\")\n",
    "    axes[1].set_title(\"True Next Day's SIE\")\n",
    "    axes[1].axis(\"off\")\n",
    "\n",
    "    # Plot the predicted next day's SIE\n",
    "    axes[2].imshow(y_pred[:, :, 0], cmap=\"viridis\")\n",
    "    axes[2].set_title(\"Predicted Next Day's SIE\")\n",
    "    axes[2].axis(\"off\")\n",
    "\n",
    "    # Plot the incorrect predictions\n",
    "    axes[3].imshow(incorrect_predictions[:, :, 0], cmap=\"hot\")\n",
    "    axes[3].set_title(\"Incorrect Predictions\")\n",
    "    axes[3].axis(\"off\")\n",
    "\n",
    "    # Add a legend for the values\n",
    "    from matplotlib.colors import ListedColormap\n",
    "\n",
    "    cmap = ListedColormap([\"blue\", \"white\", \"yellow\"])\n",
    "    labels = [\"Open Water\", \"Sea Ice\", \"Land\"]\n",
    "    patches = [\n",
    "        plt.plot(\n",
    "            [],\n",
    "            [],\n",
    "            marker=\"o\",\n",
    "            ms=10,\n",
    "            ls=\"\",\n",
    "            mec=None,\n",
    "            color=cmap(i),\n",
    "            label=\"{:s}\".format(labels[i]),\n",
    "        )[0]\n",
    "        for i in range(len(labels))\n",
    "    ]\n",
    "    plt.legend(handles=patches, bbox_to_anchor=(1.05, 1), loc=2, borderaxespad=0.0)\n",
    "\n",
    "    fig.suptitle(f\"Model Predictions for {year} {day}'s Next Day Forecast\", fontsize=14)\n",
    "    plt.tight_layout()\n",
    "    plt.show()\n",
    "    print()\n",
    "    print()\n",
    "\n",
    "\n",
    "# Get the batch data for test set\n",
    "batch_index = 10\n",
    "X_batch, y_true_batch = test_generator[batch_index]\n",
    "# Predict using the model\n",
    "y_pred_batch = model.predict(X_batch)\n",
    "dates = test_generator.get_years_days_of_batch(batch_index)\n",
    "\n",
    "# iterate over the batched predictions\n",
    "for i in range(X_batch.shape[0]):\n",
    "    # Assuming 'model' is your trained model and 'test_generator' is an instance of AllDataGenerator\n",
    "    plot_model_predictions_with_errors(\n",
    "        X_batch[i], y_true_batch[i], y_pred_batch[i], dates[i][0], dates[i][1]\n",
    "    )"
   ]
  },
  {
   "cell_type": "code",
   "execution_count": null,
   "metadata": {
    "colab": {
     "base_uri": "https://localhost:8080/",
     "height": 617
    },
    "id": "MXq734JLZAha",
    "outputId": "08290386-35c7-4c6a-fc03-48060903152f"
   },
   "outputs": [],
   "source": [
    "import matplotlib.pyplot as plt\n",
    "import numpy as np\n",
    "from matplotlib.colors import ListedColormap\n",
    "\n",
    "\n",
    "def plot_model_predictions_with_errors(\n",
    "    X: np.array, y_true: np.array, y_pred: np.array, year: int, day: int\n",
    "):\n",
    "    \"\"\"\n",
    "    Parameters:\n",
    "     - X: np.array of shape (window_size, window_size, n_forecasts)\n",
    "     - y_true: np.array of 0,1,2 (window_size, window_size, 1)\n",
    "     - y_pred: model output (window_size, window_size, 1)\n",
    "     - year: Integer year like 2023, for titling plot\n",
    "     - day: Integer day like 18, for titling plot\n",
    "    \"\"\"\n",
    "    cmap = ListedColormap([\"#0000FF\", \"#00FFFF\", \"#008B8B\"])\n",
    "    # Calculate the incorrect predictions (difference between the predicted and true labels)\n",
    "    incorrect_predictions = np.not_equal(np.round(y_pred), y_true).astype(int)\n",
    "\n",
    "    # Plotting the first example of the batch\n",
    "    fig, axes = plt.subplots(1, 4, figsize=(25, 10))\n",
    "\n",
    "    # Plot the last channel of input which is the most recent SIE\n",
    "    im1 = axes[0].imshow(X[:, :, -1], cmap=cmap)\n",
    "    axes[0].set_title(\"Most Recent SIE Input\")\n",
    "    axes[0].axis(\"off\")\n",
    "\n",
    "    # Plot the true label for next day's SIE\n",
    "    im2 = axes[1].imshow(y_true[:, :, 0], cmap=cmap)\n",
    "    axes[1].set_title(\"True Next Day's SIE\")\n",
    "    axes[1].axis(\"off\")\n",
    "\n",
    "    # Plot the predicted next day's SIE\n",
    "    im3 = axes[2].imshow(y_pred[:, :, 0], cmap=cmap)\n",
    "    axes[2].set_title(\"Predicted Next Day's SIE\")\n",
    "    axes[2].axis(\"off\")\n",
    "\n",
    "    # Plot the incorrect predictions\n",
    "    im4 = axes[3].imshow(incorrect_predictions[:, :, 0], cmap=\"hot\")\n",
    "    axes[3].set_title(\"Incorrect Predictions\")\n",
    "    axes[3].axis(\"off\")\n",
    "\n",
    "    # Add a color bar for the SIE plots\n",
    "    cbar = fig.colorbar(im1, ax=axes[0], fraction=0.046, pad=0.04)\n",
    "    cbar.set_ticks([0, 1, 2])\n",
    "    cbar.set_ticklabels([\"Open Water\", \"Sea Ice\", \"Land\"])\n",
    "\n",
    "    fig.suptitle(f\"Model Predictions for {year} {day}'s Next Day Forecast\", fontsize=14)\n",
    "    plt.tight_layout()\n",
    "    plt.show()\n",
    "    print()\n",
    "    print()\n",
    "\n",
    "\n",
    "# Get the batch data for test set\n",
    "batch_index = 0\n",
    "X_batch, y_true_batch = test_generator[batch_index]\n",
    "# Predict using the model\n",
    "y_pred_batch = model.predict(X_batch)\n",
    "dates = test_generator.get_years_days_of_batch(batch_index)\n",
    "\n",
    "# iterate over the batched predictions\n",
    "for i in range(X_batch.shape[0]):\n",
    "    # Assuming 'model' is your trained model and 'test_generator' is an instance of AllDataGenerator\n",
    "    plot_model_predictions_with_errors(\n",
    "        X_batch[i], y_true_batch[i], y_pred_batch[i], dates[i][0], dates[i][1]\n",
    "    )"
   ]
  },
  {
   "cell_type": "code",
   "execution_count": null,
   "metadata": {
    "colab": {
     "base_uri": "https://localhost:8080/"
    },
    "id": "36a9t8wpLxTH",
    "outputId": "05d90f1b-fd6c-4c14-a32a-1055d3205bfd"
   },
   "outputs": [],
   "source": [
    "(np.sum(y_true_batch == 0) + np.sum(y_true_batch == 1)) == y_true_batch.size"
   ]
  },
  {
   "cell_type": "code",
   "execution_count": null,
   "metadata": {
    "colab": {
     "base_uri": "https://localhost:8080/"
    },
    "id": "xC0edj7LA4Yn",
    "outputId": "3401a434-68ab-4633-af3c-3a7eb92fd5d2"
   },
   "outputs": [],
   "source": [
    "(np.sum(y_pred_batch == 0) + np.sum(y_pred_batch == 1)) == y_pred_batch.size"
   ]
  },
  {
   "cell_type": "code",
   "execution_count": null,
   "metadata": {
    "colab": {
     "base_uri": "https://localhost:8080/"
    },
    "id": "_G_L9lhcBHCJ",
    "outputId": "6d7e7131-fc2a-45d6-a443-9cc857fdc7e2"
   },
   "outputs": [],
   "source": [
    "(np.sum(np.isclose(y_pred_batch, 0)) + np.sum(np.isclose(y_pred_batch, 1)))"
   ]
  },
  {
   "cell_type": "code",
   "execution_count": null,
   "metadata": {
    "colab": {
     "base_uri": "https://localhost:8080/"
    },
    "id": "Kj7i0uI5BuBE",
    "outputId": "08bc159c-0f70-4b65-cd55-a3ec504f20bf"
   },
   "outputs": [],
   "source": [
    "np.all(0 <= y_pred_batch) & np.all(y_pred_batch <= 1)"
   ]
  },
  {
   "cell_type": "code",
   "execution_count": null,
   "metadata": {
    "colab": {
     "base_uri": "https://localhost:8080/",
     "height": 452
    },
    "id": "O7WR-dFdBLg4",
    "outputId": "de4a5c78-68db-40e1-e23f-ebbfc8bdc6eb"
   },
   "outputs": [],
   "source": [
    "plt.imshow(y_pred_batch[0, :, :, 0])"
   ]
  },
  {
   "cell_type": "code",
   "execution_count": null,
   "metadata": {
    "colab": {
     "base_uri": "https://localhost:8080/",
     "height": 211
    },
    "id": "_1dQwATjBex_",
    "outputId": "7c05ae92-4efe-4a51-e554-c96d046278e5"
   },
   "outputs": [],
   "source": [
    "import numpy as np\n",
    "from scipy import ndimage\n",
    "from scipy.ndimage import sobel, binary_erosion, label\n",
    "\n",
    "\n",
    "def find_sea_ice_edges(image):\n",
    "    \"\"\"\n",
    "    Finds edges in the sea ice class (assumed to be labeled as 1) of a binary image.\n",
    "\n",
    "    Args:\n",
    "    - image: A numpy array of shape (height, width), where pixels are 0 (no ice) or 1 (ice).\n",
    "\n",
    "    Returns:\n",
    "    - A list of coordinates for the contiguous edge pixels.\n",
    "    \"\"\"\n",
    "    # Apply the Sobel filter to detect edges\n",
    "    sx = sobel(image, axis=0, mode=\"constant\")\n",
    "    sy = sobel(image, axis=1, mode=\"constant\")\n",
    "    sobel_mag = np.hypot(sx, sy)\n",
    "\n",
    "    # Threshold the Sobel magnitude to get a binary edge map\n",
    "    edge_map = sobel_mag > np.mean(sobel_mag)\n",
    "\n",
    "    # Optionally, perform erosion to thin out the edges\n",
    "    edge_map_thin = binary_erosion(edge_map)\n",
    "\n",
    "    # Find connected components in the thinned edge map\n",
    "    labeled_array, num_features = label(edge_map_thin)\n",
    "\n",
    "    # Extract the coordinates of the edge pixels\n",
    "    edge_indices = np.argwhere(labeled_array > 0)\n",
    "\n",
    "    # Optionally, return the labeled array for visualization or further analysis\n",
    "    return edge_indices, labeled_array\n",
    "\n",
    "\n",
    "# Example usage\n",
    "# Assuming `predictions` is a numpy array from your model with shape (height, width) and binary values\n",
    "predictions = y_pred_batch[0, :, :, 0]  # Dummy data for demonstration\n",
    "edge_indices, labeled_edges = find_sea_ice_edges(predictions)\n",
    "\n",
    "# edge_indices contains the coordinates of all edge pixels\n",
    "# labeled_edges is the labeled edge map, useful for visualization or further analysis"
   ]
  },
  {
   "cell_type": "code",
   "execution_count": null,
   "metadata": {
    "id": "iCg6CNxpd8Cv"
   },
   "outputs": [],
   "source": []
  }
 ],
 "metadata": {
  "accelerator": "GPU",
  "colab": {
   "gpuType": "T4",
   "provenance": []
  },
  "kernelspec": {
   "display_name": "Python 3 (ipykernel)",
   "language": "python",
   "name": "python3"
  },
  "language_info": {
   "codemirror_mode": {
    "name": "ipython",
    "version": 3
   },
   "file_extension": ".py",
   "mimetype": "text/x-python",
   "name": "python",
   "nbconvert_exporter": "python",
   "pygments_lexer": "ipython3",
   "version": "3.9.15"
  }
 },
 "nbformat": 4,
 "nbformat_minor": 4
}
