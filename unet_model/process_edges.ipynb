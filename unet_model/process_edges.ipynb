{
 "cells": [
  {
   "cell_type": "markdown",
   "id": "9412caf4-4537-4e4b-b749-d6184e0cf9e9",
   "metadata": {},
   "source": [
    "# Process and Compare Ice Edges\n",
    "Go from an image of either ice/no ice or predicted probabilities of ice/no ice to evaluating ice-edges with Melsom metrics."
   ]
  },
  {
   "cell_type": "code",
   "execution_count": 1,
   "id": "ac3a17f5-273d-44e9-876a-db862e946bc6",
   "metadata": {},
   "outputs": [],
   "source": [
    "import tensorflow as tf\n",
    "import numba\n",
    "import numpy as np\n",
    "\n",
    "import matplotlib.pyplot as plt"
   ]
  },
  {
   "cell_type": "markdown",
   "id": "6dabdeeb-5916-415f-81da-b0e9d0591904",
   "metadata": {},
   "source": [
    "How UNet constructs a batch of images if it's relevant to understand:\n",
    "```py\n",
    "def load_n_day_chunk(year: int, day: int, n=4) -> np.array:\n",
    "    \"\"\"\n",
    "    Return np.array with shape (height, width, channels).\n",
    "\n",
    "    Does NOT wrap years or account for missing days.\n",
    "    Starts n_day chunk at specified day, year.\n",
    "\n",
    "    Returns:\n",
    "        np.array: shape (sie_y_shape, sie_x_shape, n_day)\n",
    "    \"\"\"\n",
    "    sie_chunk = []\n",
    "    for new_day in range(day, day + n):\n",
    "        sie = trinarize_data(load_sie_data(year, new_day))\n",
    "        sie_chunk.append(sie)\n",
    "\n",
    "    assert len(sie_chunk) == n\n",
    "    \n",
    "    # Use np.stack to stack the individual 2D arrays along a new third axis, resulting in (height, width, channels)\n",
    "    # latest image is [..., -1], first image is [..., 0]\n",
    "    return np.stack(sie_chunk, axis=-1)\n",
    "```"
   ]
  },
  {
   "cell_type": "markdown",
   "id": "8274073f-ddee-464d-8723-86a1ecb2656b",
   "metadata": {},
   "source": [
    "## Functions"
   ]
  },
  {
   "cell_type": "markdown",
   "id": "02c04556-7c9d-4f46-a9dc-6980d911d142",
   "metadata": {},
   "source": [
    "From (batched) image with values between 0 and 1 representing probability or classification of ice/no ice:"
   ]
  },
  {
   "cell_type": "code",
   "execution_count": 2,
   "id": "30545577-b1f6-4f0c-80b8-15be22732a93",
   "metadata": {},
   "outputs": [],
   "source": [
    "def image_batch_to_binary_edge_image(image_batch: np.array) -> np.array:\n",
    "    \"\"\"\n",
    "    Perform Sobel edge detection on an (optionally batched) image\n",
    "    Image has dimension (batch_size, window_size, window_size).\n",
    "    \"\"\"\n",
    "    binary_ice_no_ice = np.round(image_batch)\n",
    "    assert np.allclose(np.unique(binary_ice_no_ice), np.array([0, 1]))\n",
    "\n",
    "    # Sobel expects input to have dimension (batch, window, window, 1)\n",
    "    batch_tensor = tf.expand_dims(tf.convert_to_tensor(binary_ice_no_ice), axis=-1)\n",
    "\n",
    "    sobel_edges = tf.image.sobel_edges(batch_tensor)\n",
    "    sobel_x = sobel_edges[..., 0]\n",
    "    sobel_y = sobel_edges[..., 1]\n",
    "\n",
    "    # Apply absolute value, threshold, and sum the results of x and y edges\n",
    "    edges_x = tf.cast(tf.square(sobel_x) >= 1, tf.float32)\n",
    "    edges_y = tf.cast(tf.square(sobel_y) >= 1, tf.float32)\n",
    "    edge_magnitudes = edges_x + edges_y\n",
    "    return edge_magnitudes"
   ]
  },
  {
   "cell_type": "code",
   "execution_count": 3,
   "id": "eab54368-e4ed-4738-a674-c3bba6ea04e4",
   "metadata": {},
   "outputs": [],
   "source": [
    "def process_binary_edge_image_into_coordinates(activated: np.array) -> np.array:\n",
    "    \"\"\"\n",
    "    Takes a numpy array of edge detected pixels (not SIE).\n",
    "    Cannot take in a tensorflow tensor, input array must be between 0 and 1.\n",
    "    Input array is the result of running edge-detection on Ice/No Ice array.\n",
    "\n",
    "    Parameters:\n",
    "        activated: Numpy array with >= 0.5 indicating sea-ice edge.\n",
    "\n",
    "    Returns:\n",
    "        numpy array of integer indices in input array corresponding to edge pixels. Of shape (N Edges, 2)\n",
    "\n",
    "    \"\"\"\n",
    "    edges = np.where(np.round(activated) >= 1)\n",
    "    x, y = edges[0], edges[1]\n",
    "    edge_coordinates = np.stack((x, y), axis=-1)\n",
    "\n",
    "    return edge_coordinates"
   ]
  },
  {
   "cell_type": "code",
   "execution_count": 4,
   "id": "9ab91ba3-b57b-4002-9cc9-d9a3d95b6913",
   "metadata": {},
   "outputs": [],
   "source": [
    "@numba.jit(nopython=True)\n",
    "def average_and_rms_ice_edge_displacement(observed_edges, model_edges):\n",
    "    \"\"\"\n",
    "    Calculate both the average (D_AVG_IE) and RMS ice edge displacement (D_RMS_IE) between observed and model ice edges.\n",
    "    Credit: Validation metrics for ice edge position forecasts, Melsom et al., 2019.\n",
    "\n",
    "    Parameters:\n",
    "    - observed_edges: numpy array of shape (N, 2), where N is the number of observed ice edge points,\n",
    "      and each point is represented by its (x, y) coordinates.\n",
    "    - model_edges: numpy array of shape (M, 2), where M is the number of model ice edge points,\n",
    "      and each point is represented by its (x, y) coordinates.\n",
    "\n",
    "    Returns:\n",
    "    - D_AVG_IE: The average displacement between the observed and model ice edges.\n",
    "    - D_RMS_IE: The root mean square displacement between the observed and model ice edges.\n",
    "    \"\"\"\n",
    "\n",
    "    # Initialize lists to store minimum distances for each point\n",
    "    observed_to_model_distances = []\n",
    "    model_to_observed_distances = []\n",
    "\n",
    "    # Calculate distances from each observed point to the nearest model point\n",
    "    for obs_point in observed_edges:\n",
    "        distances = np.sqrt(np.sum((model_edges - obs_point) ** 2, axis=1))\n",
    "        observed_to_model_distances.append(np.min(distances))\n",
    "\n",
    "    # Calculate distances from each model point to the nearest observed point\n",
    "    for model_point in model_edges:\n",
    "        distances = np.sqrt(np.sum((observed_edges - model_point) ** 2, axis=1))\n",
    "        model_to_observed_distances.append(np.min(distances))\n",
    "\n",
    "    # Calculate the average displacement\n",
    "    avg_displacement = (\n",
    "        sum(observed_to_model_distances) / len(observed_to_model_distances)\n",
    "        + sum(model_to_observed_distances) / len(model_to_observed_distances)\n",
    "    ) / 2\n",
    "\n",
    "    # Calculate the root mean square displacement\n",
    "    rms_displacement = np.sqrt(\n",
    "        (\n",
    "            sum([dist**2 for dist in observed_to_model_distances])\n",
    "            + sum([dist**2 for dist in model_to_observed_distances])\n",
    "        )\n",
    "        / (len(observed_to_model_distances) + len(model_to_observed_distances))\n",
    "    )\n",
    "\n",
    "    return avg_displacement, rms_displacement"
   ]
  },
  {
   "cell_type": "markdown",
   "id": "a02c85fc-bc47-47c9-ac12-e541cf6b87d1",
   "metadata": {},
   "source": [
    "### Example usage\n",
    "Create a fake batch chunk of data (batch size, window size, window size)"
   ]
  },
  {
   "cell_type": "code",
   "execution_count": 5,
   "id": "bf5a9370-8d10-4a50-8769-a22e97bee303",
   "metadata": {},
   "outputs": [],
   "source": [
    "# Called batches, but could represent channels or n forecasts back\n",
    "batches = 4"
   ]
  },
  {
   "cell_type": "code",
   "execution_count": 6,
   "id": "33272c17-ce56-4a56-bd41-bb7944b9f8c5",
   "metadata": {},
   "outputs": [],
   "source": [
    "# Create a fake numpy array with simple shapes\n",
    "fake_array = np.zeros((batches, 100, 100))\n",
    "\n",
    "# Add a rectangle shifting slightly between frames\n",
    "for i in range(batches):\n",
    "    offset = 5 * i\n",
    "    fake_array[i, 30 + offset : 70 + offset, 30 + offset : 70 + offset] = 1"
   ]
  },
  {
   "cell_type": "code",
   "execution_count": 7,
   "id": "03573acc-712e-43ff-91e2-b1965e853ed7",
   "metadata": {},
   "outputs": [
    {
     "data": {
      "image/png": "[encoded data removed]",
      "text/plain": [
       "<Figure size 640x480 with 1 Axes>"
      ]
     },
     "metadata": {},
     "output_type": "display_data"
    },
    {
     "data": {
      "image/png": "[encoded data removed]",
      "text/plain": [
       "<Figure size 640x480 with 1 Axes>"
      ]
     },
     "metadata": {},
     "output_type": "display_data"
    },
    {
     "data": {
      "image/png": "[encoded data removed]",
      "text/plain": [
       "<Figure size 640x480 with 1 Axes>"
      ]
     },
     "metadata": {},
     "output_type": "display_data"
    },
    {
     "data": {
      "image/png": "[encoded data removed]",
      "text/plain": [
       "<Figure size 640x480 with 1 Axes>"
      ]
     },
     "metadata": {},
     "output_type": "display_data"
    }
   ],
   "source": [
    "for i in range(batches):\n",
    "    plt.imshow(fake_array[i])\n",
    "    plt.show()"
   ]
  },
  {
   "cell_type": "markdown",
   "id": "4d7c98c5-d12c-4141-9ab5-63c9aa687e9a",
   "metadata": {},
   "source": [
    "Get a binary edge/not edge 2D array from this"
   ]
  },
  {
   "cell_type": "code",
   "execution_count": 8,
   "id": "f8ccdfb7-6505-4912-8fb4-c8c7aaf0ab42",
   "metadata": {},
   "outputs": [
    {
     "name": "stderr",
     "output_type": "stream",
     "text": [
      "2024-03-28 22:40:36.987989: E tensorflow/stream_executor/cuda/cuda_driver.cc:271] failed call to cuInit: CUDA_ERROR_UNKNOWN: unknown error\n",
      "2024-03-28 22:40:36.988040: I tensorflow/stream_executor/cuda/cuda_diagnostics.cc:169] retrieving CUDA diagnostic information for host: sven\n",
      "2024-03-28 22:40:36.988046: I tensorflow/stream_executor/cuda/cuda_diagnostics.cc:176] hostname: sven\n",
      "2024-03-28 22:40:36.988264: I tensorflow/stream_executor/cuda/cuda_diagnostics.cc:200] libcuda reported version is: 535.104.5\n",
      "2024-03-28 22:40:36.988287: I tensorflow/stream_executor/cuda/cuda_diagnostics.cc:204] kernel reported version is: 535.104.5\n",
      "2024-03-28 22:40:36.988292: I tensorflow/stream_executor/cuda/cuda_diagnostics.cc:310] kernel version seems to match DSO: 535.104.5\n",
      "2024-03-28 22:40:36.989827: I tensorflow/core/platform/cpu_feature_guard.cc:142] This TensorFlow binary is optimized with oneAPI Deep Neural Network Library (oneDNN) to use the following CPU instructions in performance-critical operations:  SSE4.1 SSE4.2 AVX AVX2 FMA\n",
      "To enable them in other operations, rebuild TensorFlow with the appropriate compiler flags.\n"
     ]
    }
   ],
   "source": [
    "binary_edges = image_batch_to_binary_edge_image(fake_array)"
   ]
  },
  {
   "cell_type": "code",
   "execution_count": 9,
   "id": "91cbcb51-7efa-4742-8481-b97f9d360a69",
   "metadata": {},
   "outputs": [
    {
     "data": {
      "image/png": "[encoded data removed]",
      "text/plain": [
       "<Figure size 640x480 with 1 Axes>"
      ]
     },
     "metadata": {},
     "output_type": "display_data"
    },
    {
     "data": {
      "image/png": "[encoded data removed]",
      "text/plain": [
       "<Figure size 640x480 with 1 Axes>"
      ]
     },
     "metadata": {},
     "output_type": "display_data"
    },
    {
     "data": {
      "image/png": "[encoded data removed]",
      "text/plain": [
       "<Figure size 640x480 with 1 Axes>"
      ]
     },
     "metadata": {},
     "output_type": "display_data"
    },
    {
     "data": {
      "image/png": "[encoded data removed]",
      "text/plain": [
       "<Figure size 640x480 with 1 Axes>"
      ]
     },
     "metadata": {},
     "output_type": "display_data"
    }
   ],
   "source": [
    "for i in range(binary_edges.shape[0]):\n",
    "    plt.imshow(binary_edges[i])\n",
    "    plt.show()"
   ]
  },
  {
   "cell_type": "markdown",
   "id": "691a03b0-2b90-4dbb-b110-721e3935632b",
   "metadata": {},
   "source": [
    "Next let's collect the edge coordinates from the binary edge/not edge image. \n",
    "\n",
    "We'll get (n_edge_pixels, 2) shaped array back. So the x, ycoordinates for edge pixel #2 are accessed like `edge_coordinates[batch_number, 1]`"
   ]
  },
  {
   "cell_type": "code",
   "execution_count": 10,
   "id": "8ac576bf-ebf7-4dba-840e-083e71becd4d",
   "metadata": {},
   "outputs": [],
   "source": [
    "edge_coordinates = {}\n",
    "for i in range(batches):\n",
    "    edge_coordinates[i] = process_binary_edge_image_into_coordinates(binary_edges[i])"
   ]
  },
  {
   "cell_type": "markdown",
   "id": "15322e1c-3e33-4eff-93e4-90fc23f52ed3",
   "metadata": {},
   "source": [
    "Now we can evaluate our edges against each other.\n",
    "\n",
    "For this example, we'll compare how the edges change between frames (instead of target image to model predictions).  \n",
    "We know that the offset between the images was 5 pixels shifted down and to the right each time."
   ]
  },
  {
   "cell_type": "code",
   "execution_count": 11,
   "id": "4d9ef505-d650-4f37-a848-bc532872650f",
   "metadata": {},
   "outputs": [
    {
     "name": "stdout",
     "output_type": "stream",
     "text": [
      "Edge displacements between frame 0 and 1:\n",
      "Average: 4.232, RMS: 4.376\n",
      "\n",
      "Edge displacements between frame 1 and 2:\n",
      "Average: 4.232, RMS: 4.376\n",
      "\n",
      "Edge displacements between frame 2 and 3:\n",
      "Average: 4.232, RMS: 4.376\n",
      "\n"
     ]
    }
   ],
   "source": [
    "for i in range(1, batches):\n",
    "    current_edges = edge_coordinates[i]\n",
    "    previous_edges = edge_coordinates[i - 1]\n",
    "\n",
    "    avg_displacement, rms_displacement = average_and_rms_ice_edge_displacement(\n",
    "        current_edges, previous_edges\n",
    "    )\n",
    "    print(\n",
    "        f\"Edge displacements between frame {i-1} and {i}:\\nAverage: {avg_displacement:0.3f}, RMS: {rms_displacement:0.3f}\"\n",
    "    )\n",
    "    print()"
   ]
  },
  {
   "cell_type": "markdown",
   "id": "35acc5a5-dbb2-4199-9ec4-c12616cb7554",
   "metadata": {},
   "source": [
    "The displacement remaining the same from one frame to another makes sense, because the offset is constant in between frames.\n",
    "\n",
    "By the last frame however, the square has moved quite a bit. Play around with different batch sizes to see how much this changes relative to what you know the offset has been."
   ]
  },
  {
   "cell_type": "code",
   "execution_count": 12,
   "id": "a19adc3f-468d-4c22-9480-7a232521fe18",
   "metadata": {},
   "outputs": [
    {
     "name": "stdout",
     "output_type": "stream",
     "text": [
      "Edge displacements between first and last frame:\n",
      "Average: 12.083, RMS: 13.034\n"
     ]
    }
   ],
   "source": [
    "first_frame_coordinates = edge_coordinates[0]\n",
    "last_frame_coordinates = edge_coordinates[batches - 1]\n",
    "\n",
    "avg_displacement, rms_displacement = average_and_rms_ice_edge_displacement(\n",
    "    first_frame_coordinates, last_frame_coordinates\n",
    ")\n",
    "print(\n",
    "    f\"Edge displacements between first and last frame:\\nAverage: {avg_displacement:0.3f}, RMS: {rms_displacement:0.3f}\"\n",
    ")"
   ]
  }
 ],
 "metadata": {
  "kernelspec": {
   "display_name": "Python 3 (ipykernel)",
   "language": "python",
   "name": "python3"
  },
  "language_info": {
   "codemirror_mode": {
    "name": "ipython",
    "version": 3
   },
   "file_extension": ".py",
   "mimetype": "text/x-python",
   "name": "python",
   "nbconvert_exporter": "python",
   "pygments_lexer": "ipython3",
   "version": "3.9.15"
  }
 },
 "nbformat": 4,
 "nbformat_minor": 5
}
